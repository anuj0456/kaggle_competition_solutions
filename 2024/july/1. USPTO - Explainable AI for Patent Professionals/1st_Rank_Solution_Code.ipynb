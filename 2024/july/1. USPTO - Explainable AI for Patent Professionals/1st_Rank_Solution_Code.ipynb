{
 "cells": [
  {
   "cell_type": "code",
   "execution_count": null,
   "id": "4d26545f",
   "metadata": {
    "execution": {
     "iopub.execute_input": "2024-07-24T13:58:59.770439Z",
     "iopub.status.busy": "2024-07-24T13:58:59.769719Z",
     "iopub.status.idle": "2024-07-24T13:59:34.564607Z",
     "shell.execute_reply": "2024-07-24T13:59:34.563482Z"
    },
    "papermill": {
     "duration": 34.822358,
     "end_time": "2024-07-24T13:59:34.567244",
     "exception": false,
     "start_time": "2024-07-24T13:58:59.744886",
     "status": "completed"
    },
    "tags": []
   },
   "outputs": [],
   "source": [
    "import pandas as pd\n",
    "import glob\n",
    "from tqdm import tqdm\n",
    "import gc\n",
    "from collections import defaultdict\n",
    "import datetime\n",
    "import json\n",
    "import itertools\n",
    "import matplotlib.pyplot as plt\n",
    "import copy\n",
    "import math\n",
    "from collections import Counter\n",
    "import numpy as np\n",
    "import gc\n",
    "import time\n",
    "import random\n",
    "import pickle\n",
    "import os\n",
    "import shutil\n",
    "\n",
    "import whoosh_utils"
   ]
  },
  {
   "cell_type": "code",
   "execution_count": null,
   "id": "54182181",
   "metadata": {
    "execution": {
     "iopub.execute_input": "2024-07-24T13:59:34.619786Z",
     "iopub.status.busy": "2024-07-24T13:59:34.618899Z",
     "iopub.status.idle": "2024-07-24T13:59:36.271471Z",
     "shell.execute_reply": "2024-07-24T13:59:36.270405Z"
    },
    "papermill": {
     "duration": 1.681792,
     "end_time": "2024-07-24T13:59:36.274061",
     "exception": false,
     "start_time": "2024-07-24T13:59:34.592269",
     "status": "completed"
    },
    "tags": []
   },
   "outputs": [],
   "source": [
    "import cupy as cp"
   ]
  },
  {
   "cell_type": "code",
   "execution_count": null,
   "id": "f4c4bc52",
   "metadata": {
    "execution": {
     "iopub.execute_input": "2024-07-24T13:59:36.324080Z",
     "iopub.status.busy": "2024-07-24T13:59:36.323322Z",
     "iopub.status.idle": "2024-07-24T13:59:36.330766Z",
     "shell.execute_reply": "2024-07-24T13:59:36.329651Z"
    },
    "papermill": {
     "duration": 0.033859,
     "end_time": "2024-07-24T13:59:36.332997",
     "exception": false,
     "start_time": "2024-07-24T13:59:36.299138",
     "status": "completed"
    },
    "tags": []
   },
   "outputs": [],
   "source": [
    "\"\"\"\n",
    "a1 = np.arange(100000)\n",
    "a2 = np.arange(100000)\n",
    "for _ in tqdm(range(100000)):\n",
    "    d = np.intersect1d(a1, a2)\n",
    "    \n",
    "a1 = cp.arange(100000)\n",
    "a2 = cp.arange(100000)\n",
    "for _ in tqdm(range(100000)):\n",
    "    d = cp.intersect1d(a1, a2)\n",
    "\"\"\""
   ]
  },
  {
   "cell_type": "code",
   "execution_count": null,
   "id": "46d9f8a6",
   "metadata": {
    "execution": {
     "iopub.execute_input": "2024-07-24T13:59:36.431365Z",
     "iopub.status.busy": "2024-07-24T13:59:36.431014Z",
     "iopub.status.idle": "2024-07-24T13:59:36.435575Z",
     "shell.execute_reply": "2024-07-24T13:59:36.434591Z"
    },
    "papermill": {
     "duration": 0.031247,
     "end_time": "2024-07-24T13:59:36.437726",
     "exception": false,
     "start_time": "2024-07-24T13:59:36.406479",
     "status": "completed"
    },
    "tags": []
   },
   "outputs": [],
   "source": [
    "\n",
    "# TRAIN_PKL_PATH = '/kaggle/input/sa-cpc-title-abst-clm-desc-10-5-use-allpub-svpkl/'\n",
    "# TRAIN_PKL_PATH = ''\n",
    "\n",
    "# TRAIN_PKL_PATH = '/kaggle/input/sa-cpc-title-abst-clm-inf-desc-10-5-save-pkl/'\n",
    "\n",
    "TRAIN_PKL_PATH = '/kaggle/input/sa-cpc-title-abst-clm-inf-cupy-save/'"
   ]
  },
  {
   "cell_type": "code",
   "execution_count": null,
   "id": "a169119f",
   "metadata": {
    "execution": {
     "iopub.execute_input": "2024-07-24T13:59:36.488606Z",
     "iopub.status.busy": "2024-07-24T13:59:36.487925Z",
     "iopub.status.idle": "2024-07-24T13:59:36.492560Z",
     "shell.execute_reply": "2024-07-24T13:59:36.491730Z"
    },
    "papermill": {
     "duration": 0.032613,
     "end_time": "2024-07-24T13:59:36.494747",
     "exception": false,
     "start_time": "2024-07-24T13:59:36.462134",
     "status": "completed"
    },
    "tags": []
   },
   "outputs": [],
   "source": [
    "IS_TRAIN = False\n",
    "IS_REDUCE_TRAIN = False\n",
    "\n",
    "IS_ADD_NEG_0_PATTERN = True"
   ]
  },
  {
   "cell_type": "code",
   "execution_count": null,
   "id": "e1e7a685",
   "metadata": {
    "execution": {
     "iopub.execute_input": "2024-07-24T13:59:36.545737Z",
     "iopub.status.busy": "2024-07-24T13:59:36.544850Z",
     "iopub.status.idle": "2024-07-24T13:59:36.550140Z",
     "shell.execute_reply": "2024-07-24T13:59:36.549172Z"
    },
    "papermill": {
     "duration": 0.033279,
     "end_time": "2024-07-24T13:59:36.552312",
     "exception": false,
     "start_time": "2024-07-24T13:59:36.519033",
     "status": "completed"
    },
    "tags": []
   },
   "outputs": [],
   "source": [
    "NEG_MAX_COUNT = 1000\n",
    "PUB_MAX_COUNT = 50 + NEG_MAX_COUNT # 10\n",
    "SUB_MAX_COUNT = 50 + NEG_MAX_COUNT # 100\n",
    "\n",
    "PATTERN_NUM_MAX = 10000\n",
    "\n",
    "CHAR_LIMIT = 9000"
   ]
  },
  {
   "cell_type": "code",
   "execution_count": null,
   "id": "a6168d29",
   "metadata": {
    "execution": {
     "iopub.execute_input": "2024-07-24T13:59:36.603721Z",
     "iopub.status.busy": "2024-07-24T13:59:36.602892Z",
     "iopub.status.idle": "2024-07-24T13:59:36.607389Z",
     "shell.execute_reply": "2024-07-24T13:59:36.606429Z"
    },
    "papermill": {
     "duration": 0.03233,
     "end_time": "2024-07-24T13:59:36.609432",
     "exception": false,
     "start_time": "2024-07-24T13:59:36.577102",
     "status": "completed"
    },
    "tags": []
   },
   "outputs": [],
   "source": [
    "NEG_WEIGHT = 0.01 # 0.1"
   ]
  },
  {
   "cell_type": "code",
   "execution_count": null,
   "id": "fd0f6b68",
   "metadata": {
    "execution": {
     "iopub.execute_input": "2024-07-24T13:59:36.659545Z",
     "iopub.status.busy": "2024-07-24T13:59:36.658985Z",
     "iopub.status.idle": "2024-07-24T13:59:36.663382Z",
     "shell.execute_reply": "2024-07-24T13:59:36.662384Z"
    },
    "papermill": {
     "duration": 0.031867,
     "end_time": "2024-07-24T13:59:36.665559",
     "exception": false,
     "start_time": "2024-07-24T13:59:36.633692",
     "status": "completed"
    },
    "tags": []
   },
   "outputs": [],
   "source": [
    "T0 = 1\n",
    "T1 = 0.1\n",
    "\n",
    "max_time = 1 # 5"
   ]
  },
  {
   "cell_type": "code",
   "execution_count": null,
   "id": "a94e5ab3",
   "metadata": {
    "execution": {
     "iopub.execute_input": "2024-07-24T13:59:36.716217Z",
     "iopub.status.busy": "2024-07-24T13:59:36.715532Z",
     "iopub.status.idle": "2024-07-24T13:59:36.739646Z",
     "shell.execute_reply": "2024-07-24T13:59:36.738827Z"
    },
    "papermill": {
     "duration": 0.052397,
     "end_time": "2024-07-24T13:59:36.742141",
     "exception": false,
     "start_time": "2024-07-24T13:59:36.689744",
     "status": "completed"
    },
    "tags": []
   },
   "outputs": [],
   "source": [
    "if IS_TRAIN:\n",
    "    nn_path = '/kaggle/input/create-valid-index-add-claim/nn_df_for_index.csv'\n",
    "    nn_df = pd.read_csv(nn_path)\n",
    "    print('len(nn_df)', len(nn_df))\n",
    "    \n",
    "    nn_df.to_csv('nn_df_for_index.csv', index=False)\n",
    "else:\n",
    "    nn_df = pd.read_csv('/kaggle/input/uspto-explainable-ai/test.csv')\n",
    "    nn_df.to_csv('nn_df_for_index.csv', index=False)"
   ]
  },
  {
   "cell_type": "code",
   "execution_count": null,
   "id": "12361ad7",
   "metadata": {
    "execution": {
     "iopub.execute_input": "2024-07-24T13:59:36.793315Z",
     "iopub.status.busy": "2024-07-24T13:59:36.792560Z",
     "iopub.status.idle": "2024-07-24T13:59:36.797510Z",
     "shell.execute_reply": "2024-07-24T13:59:36.796626Z"
    },
    "papermill": {
     "duration": 0.032375,
     "end_time": "2024-07-24T13:59:36.799672",
     "exception": false,
     "start_time": "2024-07-24T13:59:36.767297",
     "status": "completed"
    },
    "tags": []
   },
   "outputs": [],
   "source": [
    "import os\n",
    "os.makedirs('nn_nn', exist_ok=True)\n",
    "os.makedirs('reduce', exist_ok=True)"
   ]
  },
  {
   "cell_type": "code",
   "execution_count": null,
   "id": "dfd06210",
   "metadata": {
    "execution": {
     "iopub.execute_input": "2024-07-24T13:59:36.898359Z",
     "iopub.status.busy": "2024-07-24T13:59:36.897704Z",
     "iopub.status.idle": "2024-07-24T13:59:36.904767Z",
     "shell.execute_reply": "2024-07-24T13:59:36.903871Z"
    },
    "papermill": {
     "duration": 0.034706,
     "end_time": "2024-07-24T13:59:36.907108",
     "exception": false,
     "start_time": "2024-07-24T13:59:36.872402",
     "status": "completed"
    },
    "tags": []
   },
   "outputs": [],
   "source": [
    "%%writefile nn_nn/publication_to_word.py\n",
    "\n",
    "import pandas as pd\n",
    "import glob\n",
    "from tqdm import tqdm\n",
    "import gc\n",
    "from collections import defaultdict\n",
    "import datetime\n",
    "import json\n",
    "import itertools\n",
    "import matplotlib.pyplot as plt\n",
    "import copy\n",
    "import math\n",
    "from collections import Counter\n",
    "import numpy as np\n",
    "import gc\n",
    "import time\n",
    "import random\n",
    "import pickle\n",
    "import os\n",
    "\n",
    "nn_df = pd.read_csv('nn_df_for_index.csv')\n",
    "\n",
    "use_pub = set()\n",
    "for nn in nn_df.values:\n",
    "    for n in nn:\n",
    "        use_pub.add(n)\n",
    "\n",
    "print(len(use_pub))\n",
    "\n",
    "# publication_to_word = pickle.load(open(base_path + 'publication_to_word.pkl', 'rb'))\n",
    "\n",
    "publication_to_word = {}\n",
    "for i in tqdm(range(21)):\n",
    "    _publication_to_word = pickle.load(open(f'/kaggle/input/cpc-title-abst-claim-inf-chunk/publication_to_word_{i}.pkl', 'rb'))\n",
    "    for pub, word in _publication_to_word.items():\n",
    "        if pub in use_pub:\n",
    "            publication_to_word[pub] = word\n",
    "    \n",
    "print('len(publication_to_word)', len(publication_to_word))\n",
    "\n",
    "pickle.dump(publication_to_word, open(f'reduce/publication_to_word.pkl', 'wb'))"
   ]
  },
  {
   "cell_type": "code",
   "execution_count": null,
   "id": "109170df",
   "metadata": {
    "execution": {
     "iopub.execute_input": "2024-07-24T13:59:36.954763Z",
     "iopub.status.busy": "2024-07-24T13:59:36.954430Z",
     "iopub.status.idle": "2024-07-24T14:05:32.884463Z",
     "shell.execute_reply": "2024-07-24T14:05:32.883527Z"
    },
    "papermill": {
     "duration": 355.956395,
     "end_time": "2024-07-24T14:05:32.886885",
     "exception": false,
     "start_time": "2024-07-24T13:59:36.930490",
     "status": "completed"
    },
    "tags": []
   },
   "outputs": [],
   "source": [
    "if IS_TRAIN and TRAIN_PKL_PATH != '':\n",
    "    shutil.copy(f'{TRAIN_PKL_PATH}reduce/publication_to_word.pkl', 'reduce/publication_to_word.pkl')\n",
    "else:\n",
    "    !python nn_nn/publication_to_word.py"
   ]
  },
  {
   "cell_type": "markdown",
   "id": "34c6e88c",
   "metadata": {
    "papermill": {
     "duration": 0.025546,
     "end_time": "2024-07-24T14:05:32.938506",
     "exception": false,
     "start_time": "2024-07-24T14:05:32.912960",
     "status": "completed"
    },
    "tags": []
   },
   "source": [
    "# publication to int  \n"
   ]
  },
  {
   "cell_type": "code",
   "execution_count": null,
   "id": "be7fd5dc",
   "metadata": {
    "execution": {
     "iopub.execute_input": "2024-07-24T14:05:32.992895Z",
     "iopub.status.busy": "2024-07-24T14:05:32.992528Z",
     "iopub.status.idle": "2024-07-24T14:05:32.999419Z",
     "shell.execute_reply": "2024-07-24T14:05:32.998451Z"
    },
    "papermill": {
     "duration": 0.037746,
     "end_time": "2024-07-24T14:05:33.002197",
     "exception": false,
     "start_time": "2024-07-24T14:05:32.964451",
     "status": "completed"
    },
    "tags": []
   },
   "outputs": [],
   "source": [
    "%%writefile nn_nn/pub_to_num.py\n",
    "\n",
    "import pandas as pd\n",
    "import glob\n",
    "from tqdm import tqdm\n",
    "import gc\n",
    "from collections import defaultdict\n",
    "import datetime\n",
    "import json\n",
    "import itertools\n",
    "import matplotlib.pyplot as plt\n",
    "import copy\n",
    "import math\n",
    "from collections import Counter\n",
    "import numpy as np\n",
    "import gc\n",
    "import time\n",
    "import random\n",
    "import pickle\n",
    "import os\n",
    "\n",
    "patent_metadata_df = pd.read_parquet('/kaggle/input/uspto-explainable-ai/patent_metadata.parquet',\n",
    "                                     columns=['publication_number'])\n",
    "\n",
    "pub_to_num = dict()\n",
    "num_to_pub = dict()\n",
    "for num, pub in enumerate(patent_metadata_df['publication_number'].values):\n",
    "    pub_to_num[pub] = num\n",
    "    num_to_pub[num] = pub\n",
    "\n",
    "pickle.dump(pub_to_num, open(f'reduce/pub_to_num.pkl', 'wb'))\n",
    "pickle.dump(num_to_pub, open(f'reduce/num_to_pub.pkl', 'wb'))"
   ]
  },
  {
   "cell_type": "code",
   "execution_count": null,
   "id": "bd148e17",
   "metadata": {
    "execution": {
     "iopub.execute_input": "2024-07-24T14:05:33.058723Z",
     "iopub.status.busy": "2024-07-24T14:05:33.058045Z",
     "iopub.status.idle": "2024-07-24T14:06:07.918086Z",
     "shell.execute_reply": "2024-07-24T14:06:07.916890Z"
    },
    "papermill": {
     "duration": 34.891573,
     "end_time": "2024-07-24T14:06:07.920783",
     "exception": false,
     "start_time": "2024-07-24T14:05:33.029210",
     "status": "completed"
    },
    "tags": []
   },
   "outputs": [],
   "source": [
    "if IS_TRAIN and TRAIN_PKL_PATH != '':\n",
    "    shutil.copy(f'{TRAIN_PKL_PATH}reduce/pub_to_num.pkl', 'reduce/pub_to_num.pkl')\n",
    "    shutil.copy(f'{TRAIN_PKL_PATH}reduce/num_to_pub.pkl', 'reduce/num_to_pub.pkl')\n",
    "else:\n",
    "    !python nn_nn/pub_to_num.py"
   ]
  },
  {
   "cell_type": "markdown",
   "id": "0c6bccdb",
   "metadata": {
    "papermill": {
     "duration": 0.025451,
     "end_time": "2024-07-24T14:06:07.972872",
     "exception": false,
     "start_time": "2024-07-24T14:06:07.947421",
     "status": "completed"
    },
    "tags": []
   },
   "source": [
    "# word to publication、nn_df以外のwordは消す  \n"
   ]
  },
  {
   "cell_type": "code",
   "execution_count": null,
   "id": "42f51740",
   "metadata": {
    "execution": {
     "iopub.execute_input": "2024-07-24T14:06:08.027547Z",
     "iopub.status.busy": "2024-07-24T14:06:08.026803Z",
     "iopub.status.idle": "2024-07-24T14:06:08.031938Z",
     "shell.execute_reply": "2024-07-24T14:06:08.030968Z"
    },
    "papermill": {
     "duration": 0.034422,
     "end_time": "2024-07-24T14:06:08.034031",
     "exception": false,
     "start_time": "2024-07-24T14:06:07.999609",
     "status": "completed"
    },
    "tags": []
   },
   "outputs": [],
   "source": [
    "os.makedirs('word_to_pub_set_chunk', exist_ok=True)"
   ]
  },
  {
   "cell_type": "code",
   "execution_count": null,
   "id": "3a6e7d13",
   "metadata": {
    "execution": {
     "iopub.execute_input": "2024-07-24T14:06:08.086311Z",
     "iopub.status.busy": "2024-07-24T14:06:08.085717Z",
     "iopub.status.idle": "2024-07-24T14:06:08.093651Z",
     "shell.execute_reply": "2024-07-24T14:06:08.092749Z"
    },
    "papermill": {
     "duration": 0.036289,
     "end_time": "2024-07-24T14:06:08.095677",
     "exception": false,
     "start_time": "2024-07-24T14:06:08.059388",
     "status": "completed"
    },
    "tags": []
   },
   "outputs": [],
   "source": [
    "%%writefile nn_nn/reduce_pkl.py\n",
    "\n",
    "import pandas as pd\n",
    "import glob\n",
    "from tqdm import tqdm\n",
    "import gc\n",
    "from collections import defaultdict\n",
    "import datetime\n",
    "import json\n",
    "import itertools\n",
    "import matplotlib.pyplot as plt\n",
    "import copy\n",
    "import math\n",
    "from collections import Counter\n",
    "import numpy as np\n",
    "import gc\n",
    "import time\n",
    "import random\n",
    "import pickle\n",
    "import os\n",
    "\n",
    "base_path = 'reduce/'\n",
    "pub_to_num = pickle.load(open(base_path + 'pub_to_num.pkl', 'rb'))\n",
    "num_to_pub = pickle.load(open(base_path + 'num_to_pub.pkl', 'rb'))\n",
    "\n",
    "nn_df = pd.read_csv('nn_df_for_index.csv')\n",
    "\n",
    "use_pub = set()\n",
    "for nn in nn_df.values:\n",
    "    for n in nn:\n",
    "        use_pub.add(pub_to_num[n])\n",
    "\n",
    "print(len(use_pub))\n",
    "\n",
    "publication_to_word = pickle.load(open('reduce/' + 'publication_to_word.pkl', 'rb'))\n",
    "publication_to_word_new = defaultdict(list)\n",
    "for pub, word in tqdm(publication_to_word.items()):\n",
    "    publication_to_word_new[pub_to_num[pub]] = word\n",
    "publication_to_word = publication_to_word_new\n",
    "\n",
    "\n",
    "base_path = '/kaggle/input/cpc-title-abst-claim-inf/'\n",
    "word_to_pubcount = pickle.load(open(base_path + 'word_to_pubcount.pkl', 'rb'))\n",
    "\n",
    "use_words = set()\n",
    "for pub in tqdm(use_pub):\n",
    "    words = publication_to_word[pub]\n",
    "    use_words.update(words)\n",
    "print('len(use_words)', len(use_words))\n",
    "\n",
    "\n",
    "for i in tqdm(range(21)):\n",
    "    print(f'chunk_{i}')\n",
    "    word_to_pub_set = {}\n",
    "    _word_to_pub_set = pickle.load(open(f'/kaggle/input/cpc-title-abst-claim-inf-chunk/word_to_pub_set_{i}.pkl', 'rb'))\n",
    "    for word, pub_set in _word_to_pub_set.items():\n",
    "        if word in use_words:            \n",
    "            pub_set = np.array([pub_to_num[pub] for pub in pub_set], dtype='int32')\n",
    "            word_to_pub_set[word] = pub_set\n",
    "\n",
    "    pickle.dump(word_to_pub_set, open(f'reduce/word_to_pub_set_chunk_{i}.pkl', 'wb'))\n",
    "    \n",
    "    del word_to_pub_set, _word_to_pub_set\n",
    "    gc.collect()\n",
    "\n",
    "gc.collect()\n",
    "\n",
    "# wordを数値に変換 (省メモリ化のため)\n",
    "word_to_number = pickle.load(open(base_path + 'word_to_number.pkl', 'rb'))\n",
    "# 数値をwordに変換 例: number_to_word[ti:device] → 10\n",
    "number_to_word = pickle.load(open(base_path + 'number_to_word.pkl', 'rb'))\n",
    "\n",
    "remove_words = [w for w in number_to_word.keys() if w not in use_words]\n",
    "print('len(remove_words)', len(remove_words))\n",
    "for number in remove_words:\n",
    "    word = number_to_word[number]\n",
    "    word_to_number.pop(word)\n",
    "    number_to_word.pop(number)\n",
    "\n",
    "print('len(word_to_number)', len(word_to_number))\n",
    "print('len(number_to_word)', len(number_to_word))\n",
    "\n",
    "\n",
    "remove_words = [w for w in word_to_pubcount.keys() if w not in use_words]\n",
    "print('len(remove_words)', len(remove_words))\n",
    "for word in remove_words:\n",
    "    word_to_pubcount.pop(word)\n",
    "print('len(word_to_pubcount)', len(word_to_pubcount))\n",
    "\n",
    "pickle.dump(word_to_number, open(f'reduce/word_to_number.pkl', 'wb'))\n",
    "pickle.dump(number_to_word, open(f'reduce/number_to_word.pkl', 'wb'))\n",
    "pickle.dump(word_to_pubcount, open(f'reduce/word_to_pubcount.pkl', 'wb'))\n",
    "pickle.dump(publication_to_word, open(f'reduce/publication_to_word.pkl', 'wb'))"
   ]
  },
  {
   "cell_type": "code",
   "execution_count": null,
   "id": "e39f5b83",
   "metadata": {
    "execution": {
     "iopub.execute_input": "2024-07-24T14:06:08.149064Z",
     "iopub.status.busy": "2024-07-24T14:06:08.148290Z",
     "iopub.status.idle": "2024-07-24T14:38:29.019540Z",
     "shell.execute_reply": "2024-07-24T14:38:29.018135Z"
    },
    "papermill": {
     "duration": 1940.900702,
     "end_time": "2024-07-24T14:38:29.022411",
     "exception": false,
     "start_time": "2024-07-24T14:06:08.121709",
     "status": "completed"
    },
    "tags": []
   },
   "outputs": [],
   "source": [
    "if IS_TRAIN and TRAIN_PKL_PATH != '':\n",
    "    # shutil.copy(f'{TRAIN_PKL_PATH}reduce/word_to_pub_set.pkl', 'reduce/word_to_pub_set.pkl')\n",
    "    shutil.copy(f'{TRAIN_PKL_PATH}reduce/word_to_number.pkl', 'reduce/word_to_number.pkl')\n",
    "    shutil.copy(f'{TRAIN_PKL_PATH}reduce/number_to_word.pkl', 'reduce/number_to_word.pkl')\n",
    "    shutil.copy(f'{TRAIN_PKL_PATH}reduce/word_to_pubcount.pkl', 'reduce/word_to_pubcount.pkl')\n",
    "    shutil.copy(f'{TRAIN_PKL_PATH}reduce/publication_to_word.pkl', 'reduce/publication_to_word.pkl')\n",
    "else:\n",
    "    !python nn_nn/reduce_pkl.py"
   ]
  },
  {
   "cell_type": "markdown",
   "id": "acb8a20d",
   "metadata": {
    "papermill": {
     "duration": 0.030333,
     "end_time": "2024-07-24T14:38:29.084754",
     "exception": false,
     "start_time": "2024-07-24T14:38:29.054421",
     "status": "completed"
    },
    "tags": []
   },
   "source": [
    "# load index "
   ]
  },
  {
   "cell_type": "code",
   "execution_count": null,
   "id": "8be0d153",
   "metadata": {
    "execution": {
     "iopub.execute_input": "2024-07-24T14:38:29.148877Z",
     "iopub.status.busy": "2024-07-24T14:38:29.148493Z",
     "iopub.status.idle": "2024-07-24T14:38:29.155797Z",
     "shell.execute_reply": "2024-07-24T14:38:29.154969Z"
    },
    "papermill": {
     "duration": 0.042336,
     "end_time": "2024-07-24T14:38:29.158141",
     "exception": false,
     "start_time": "2024-07-24T14:38:29.115805",
     "status": "completed"
    },
    "tags": []
   },
   "outputs": [],
   "source": [
    "if IS_TRAIN:\n",
    "    # train_idx = whoosh_utils.load_index('/kaggle/input/create-valid-index-add-claim/test_index')\n",
    "    train_idx = whoosh_utils.load_index('/kaggle/input/uspto-test-index/test_index')\n",
    "    searcher = whoosh_utils.get_searcher(train_idx)\n",
    "    qp = whoosh_utils.get_query_parser()\n",
    "\n",
    "    # query = 'ti:balloons OR ti:string'\n",
    "    query = '(cpc:A01H6/42 ab:cuttings) OR (ab:regal-ab:rooting) OR (ab:magenta-ab:umbels) OR (ti:geranium-ti:variety-ab:cherry-ab:foliage-ab:pink-clm:geranium) OR (ti:bravo-ab:bicolored) OR (ab:foliage-ab:geranium-ab:regal-clm:geranium-detd:duchess) OR (ti:debutante-ti:pelargonium) OR (ti:geranium-ab:bright-ab:garden-ab:geranium-ab:mounded-ab:zonal-clm:geranium-clm:oglger14007-clm:zonal-detd:oglger14007) OR (ti:geranium-ti:variety-ab:blossoms-ab:foliage-ab:orchid-clm:geranium) OR (ti:louise-ab:ivy) OR (ti:hots) OR (ti:geranium-ti:variety-ab:orange-ab:rain-clm:geranium)'\n",
    "    print(whoosh_utils.execute_query(query, qp, searcher)[:5])"
   ]
  },
  {
   "cell_type": "code",
   "execution_count": null,
   "id": "3c1a8687",
   "metadata": {
    "execution": {
     "iopub.execute_input": "2024-07-24T14:38:29.277971Z",
     "iopub.status.busy": "2024-07-24T14:38:29.277605Z",
     "iopub.status.idle": "2024-07-24T14:38:50.882804Z",
     "shell.execute_reply": "2024-07-24T14:38:50.881567Z"
    },
    "papermill": {
     "duration": 21.639331,
     "end_time": "2024-07-24T14:38:50.885505",
     "exception": false,
     "start_time": "2024-07-24T14:38:29.246174",
     "status": "completed"
    },
    "tags": []
   },
   "outputs": [],
   "source": [
    "if IS_TRAIN and TRAIN_PKL_PATH != '':\n",
    "    chunk_path = TRAIN_PKL_PATH + 'reduce/'\n",
    "else:\n",
    "    chunk_path = 'reduce/'\n",
    "word_to_pub_set = {}\n",
    "for i in tqdm(range(21)):\n",
    "    _word_to_pub_set = pickle.load(open(chunk_path + f'word_to_pub_set_chunk_{i}.pkl', 'rb'))\n",
    "    for k, v in _word_to_pub_set.items():\n",
    "        # word_to_pub_set[k] = v\n",
    "        word_to_pub_set[k] = cp.array(np.sort(v), dtype=cp.int32)"
   ]
  },
  {
   "cell_type": "code",
   "execution_count": null,
   "id": "94421470",
   "metadata": {
    "execution": {
     "iopub.execute_input": "2024-07-24T14:38:50.951972Z",
     "iopub.status.busy": "2024-07-24T14:38:50.951626Z",
     "iopub.status.idle": "2024-07-24T14:38:50.983705Z",
     "shell.execute_reply": "2024-07-24T14:38:50.982630Z"
    },
    "papermill": {
     "duration": 0.065797,
     "end_time": "2024-07-24T14:38:50.986005",
     "exception": false,
     "start_time": "2024-07-24T14:38:50.920208",
     "status": "completed"
    },
    "tags": []
   },
   "outputs": [],
   "source": [
    "%%time\n",
    "import pickle\n",
    "\n",
    "\n",
    "base_path = 'reduce/'\n",
    "\n",
    "# wordを数値に変換 (省メモリ化のため)\n",
    "word_to_number = pickle.load(open(base_path + 'word_to_number.pkl', 'rb'))\n",
    "\n",
    "# 数値をwordに変換 例: number_to_word[ti:device] → 10\n",
    "number_to_word = pickle.load(open(base_path + 'number_to_word.pkl', 'rb'))"
   ]
  },
  {
   "cell_type": "code",
   "execution_count": null,
   "id": "3726381b",
   "metadata": {
    "execution": {
     "iopub.execute_input": "2024-07-24T14:38:51.051052Z",
     "iopub.status.busy": "2024-07-24T14:38:51.050385Z",
     "iopub.status.idle": "2024-07-24T14:38:51.064572Z",
     "shell.execute_reply": "2024-07-24T14:38:51.063436Z"
    },
    "papermill": {
     "duration": 0.049346,
     "end_time": "2024-07-24T14:38:51.066762",
     "exception": false,
     "start_time": "2024-07-24T14:38:51.017416",
     "status": "completed"
    },
    "tags": []
   },
   "outputs": [],
   "source": [
    "word_to_pubcount = pickle.load(open(base_path + 'word_to_pubcount.pkl', 'rb'))"
   ]
  },
  {
   "cell_type": "code",
   "execution_count": null,
   "id": "95eec40e",
   "metadata": {
    "execution": {
     "iopub.execute_input": "2024-07-24T14:38:51.132256Z",
     "iopub.status.busy": "2024-07-24T14:38:51.131571Z",
     "iopub.status.idle": "2024-07-24T14:38:51.138335Z",
     "shell.execute_reply": "2024-07-24T14:38:51.137321Z"
    },
    "papermill": {
     "duration": 0.042347,
     "end_time": "2024-07-24T14:38:51.140600",
     "exception": false,
     "start_time": "2024-07-24T14:38:51.098253",
     "status": "completed"
    },
    "tags": []
   },
   "outputs": [],
   "source": [
    "\"\"\"\n",
    "特定のwordを持つpublication_numberの集合 word(cpc,title,abstract)\n",
    "recallなどを高速に計算するために、集合で保持\n",
    "例: word_to_pub_set[cpc1] → set([pub1, pub2, pub3])\n",
    "\"\"\"\n",
    "\n",
    "# word_to_pub_set = pickle.load(open(base_path + 'word_to_pub_set.pkl', 'rb'))"
   ]
  },
  {
   "cell_type": "code",
   "execution_count": null,
   "id": "55b1e4e0",
   "metadata": {
    "execution": {
     "iopub.execute_input": "2024-07-24T14:38:51.205727Z",
     "iopub.status.busy": "2024-07-24T14:38:51.205389Z",
     "iopub.status.idle": "2024-07-24T14:38:51.216955Z",
     "shell.execute_reply": "2024-07-24T14:38:51.215971Z"
    },
    "papermill": {
     "duration": 0.046626,
     "end_time": "2024-07-24T14:38:51.219244",
     "exception": false,
     "start_time": "2024-07-24T14:38:51.172618",
     "status": "completed"
    },
    "tags": []
   },
   "outputs": [],
   "source": [
    "publication_to_word = pickle.load(open(base_path + 'publication_to_word.pkl', 'rb'))"
   ]
  },
  {
   "cell_type": "code",
   "execution_count": null,
   "id": "198749bd",
   "metadata": {
    "execution": {
     "iopub.execute_input": "2024-07-24T14:38:51.285354Z",
     "iopub.status.busy": "2024-07-24T14:38:51.284992Z",
     "iopub.status.idle": "2024-07-24T14:39:04.101624Z",
     "shell.execute_reply": "2024-07-24T14:39:04.100572Z"
    },
    "papermill": {
     "duration": 12.852612,
     "end_time": "2024-07-24T14:39:04.104320",
     "exception": false,
     "start_time": "2024-07-24T14:38:51.251708",
     "status": "completed"
    },
    "tags": []
   },
   "outputs": [],
   "source": [
    "pub_to_num = pickle.load(open(base_path + 'pub_to_num.pkl', 'rb'))\n",
    "num_to_pub = pickle.load(open(base_path + 'num_to_pub.pkl', 'rb'))"
   ]
  },
  {
   "cell_type": "code",
   "execution_count": null,
   "id": "61642e47",
   "metadata": {
    "execution": {
     "iopub.execute_input": "2024-07-24T14:39:04.169332Z",
     "iopub.status.busy": "2024-07-24T14:39:04.168974Z",
     "iopub.status.idle": "2024-07-24T14:39:04.789758Z",
     "shell.execute_reply": "2024-07-24T14:39:04.788850Z"
    },
    "papermill": {
     "duration": 0.655351,
     "end_time": "2024-07-24T14:39:04.791841",
     "exception": false,
     "start_time": "2024-07-24T14:39:04.136490",
     "status": "completed"
    },
    "tags": []
   },
   "outputs": [],
   "source": [
    "counts = []\n",
    "for _, cnt in word_to_pubcount.items():\n",
    "    counts.append(cnt)\n",
    "plt.hist(counts)"
   ]
  },
  {
   "cell_type": "code",
   "execution_count": null,
   "id": "24dd892f",
   "metadata": {
    "execution": {
     "iopub.execute_input": "2024-07-24T14:39:04.857222Z",
     "iopub.status.busy": "2024-07-24T14:39:04.856833Z",
     "iopub.status.idle": "2024-07-24T14:39:04.866998Z",
     "shell.execute_reply": "2024-07-24T14:39:04.866167Z"
    },
    "papermill": {
     "duration": 0.044941,
     "end_time": "2024-07-24T14:39:04.869224",
     "exception": false,
     "start_time": "2024-07-24T14:39:04.824283",
     "status": "completed"
    },
    "tags": []
   },
   "outputs": [],
   "source": [
    "nn_df = pd.read_csv('nn_df_for_index.csv')"
   ]
  },
  {
   "cell_type": "code",
   "execution_count": null,
   "id": "e4777022",
   "metadata": {
    "execution": {
     "iopub.execute_input": "2024-07-24T14:39:04.935356Z",
     "iopub.status.busy": "2024-07-24T14:39:04.934960Z",
     "iopub.status.idle": "2024-07-24T14:39:04.944611Z",
     "shell.execute_reply": "2024-07-24T14:39:04.943786Z"
    },
    "papermill": {
     "duration": 0.045389,
     "end_time": "2024-07-24T14:39:04.946841",
     "exception": false,
     "start_time": "2024-07-24T14:39:04.901452",
     "status": "completed"
    },
    "tags": []
   },
   "outputs": [],
   "source": [
    "for i in range(nn_df.values.shape[0]):\n",
    "    for j in range(nn_df.values.shape[1]):\n",
    "        nn_df.values[i, j] = pub_to_num[nn_df.values[i, j]]"
   ]
  },
  {
   "cell_type": "code",
   "execution_count": null,
   "id": "4aa10b20",
   "metadata": {
    "execution": {
     "iopub.execute_input": "2024-07-24T14:39:05.012745Z",
     "iopub.status.busy": "2024-07-24T14:39:05.011623Z",
     "iopub.status.idle": "2024-07-24T14:39:05.016762Z",
     "shell.execute_reply": "2024-07-24T14:39:05.015767Z"
    },
    "papermill": {
     "duration": 0.040531,
     "end_time": "2024-07-24T14:39:05.019107",
     "exception": false,
     "start_time": "2024-07-24T14:39:04.978576",
     "status": "completed"
    },
    "tags": []
   },
   "outputs": [],
   "source": [
    "neighbors = nn_df.values[:, 1:]"
   ]
  },
  {
   "cell_type": "code",
   "execution_count": null,
   "id": "b48437cb",
   "metadata": {
    "execution": {
     "iopub.execute_input": "2024-07-24T14:39:05.085417Z",
     "iopub.status.busy": "2024-07-24T14:39:05.084756Z",
     "iopub.status.idle": "2024-07-24T14:39:23.615518Z",
     "shell.execute_reply": "2024-07-24T14:39:23.614173Z"
    },
    "papermill": {
     "duration": 18.568461,
     "end_time": "2024-07-24T14:39:23.619780",
     "exception": false,
     "start_time": "2024-07-24T14:39:05.051319",
     "status": "completed"
    },
    "tags": []
   },
   "outputs": [],
   "source": [
    "\n",
    "word_pattern_to_pub_set_list = [defaultdict(set) for _ in range(len(neighbors))]\n",
    "word_pattern_to_pub_set_all = dict()\n",
    "add_count_list = []\n",
    "\n",
    "\n",
    "for i in tqdm(range(len(neighbors))):\n",
    "\n",
    "    word_pattern_to_pub_set = word_pattern_to_pub_set_list[i]\n",
    "    add_list = []\n",
    "    \n",
    "\n",
    "    nn_list = neighbors[i]\n",
    "    # nn_array = np.array(neighbors[i], dtype=np.int32)\n",
    "    \n",
    "    nn_array = neighbors[i]\n",
    "    nn_array = np.sort(nn_array)\n",
    "    nn_array = cp.array(nn_array, dtype=np.int32)\n",
    "    nn_set = set(nn_list)\n",
    "\n",
    "    # use_words_seen = set()\n",
    "    use_words_len_max = -1\n",
    "\n",
    "    # 行ごとにcacheをリセットして、メモリが増えすぎないようにする\n",
    "    pub_set_cache = {}\n",
    "    use_words_cache = {}\n",
    "    \n",
    "    t_sum = 0\n",
    "    for r in range(1, 3):\n",
    "        debug_count=0\n",
    "        for nn_comb in itertools.combinations(nn_list, r):\n",
    "            counts = []\n",
    "            if nn_comb[0] not in use_words_cache:\n",
    "                use_words_cache[nn_comb[0]] = set([w for w in publication_to_word[nn_comb[0]]])\n",
    "            use_words = use_words_cache[nn_comb[0]].copy()\n",
    "            for nn in nn_comb[1:]:\n",
    "                if not nn in use_words_cache:\n",
    "                    use_words_cache[nn] = set([w for w in publication_to_word[nn]])\n",
    "                use_words &= use_words_cache[nn]\n",
    "                \n",
    "            use_words = tuple(sorted(list(use_words)))\n",
    "\n",
    "            if len(use_words) == 0: #  or use_words in use_words_seen\n",
    "                continue\n",
    "\n",
    "            use_words_sorted = sorted(use_words, key=lambda x: word_to_pubcount[x])\n",
    "            \n",
    "            use_words = tuple([w for w in use_words if w in set(use_words_sorted)])\n",
    "            # use_words_len_max = max(len(use_words), use_words_len_max)\n",
    "            \n",
    "            use_words_final = []\n",
    "            \"\"\"\n",
    "            # 要素数1万以上の集合は、setを作る時間の短縮のために事前にsetにしていた。今は不要\n",
    "            if isinstance(word_to_pub_set[use_words_sorted[0]], set):\n",
    "                all_pub_set = word_to_pub_set[use_words_sorted[0]].copy()\n",
    "            else:\n",
    "                if not use_words_sorted[0] in pub_set_cache:\n",
    "                    pub_set_cache[use_words_sorted[0]] = set(word_to_pub_set[use_words_sorted[0]])\n",
    "                all_pub_set = pub_set_cache[use_words_sorted[0]].copy()\n",
    "            \"\"\"\n",
    "            all_pub_set = word_to_pub_set[use_words_sorted[0]]\n",
    "            \n",
    "            use_words_final.append(use_words_sorted[0])\n",
    "            \n",
    "            cpc_count = 1 if number_to_word[use_words_sorted[0]][:3] == 'cpc' else 0\n",
    "            \n",
    "            \n",
    "            if not len(all_pub_set) <= r:\n",
    "                for word in use_words_sorted[1:]:\n",
    "                    \n",
    "                    if number_to_word[word][:3] == 'cpc' and cpc_count == 1:\n",
    "                        continue\n",
    "                    \n",
    "                    before_len = len(all_pub_set)\n",
    "                    \"\"\"\n",
    "                    if isinstance(word_to_pub_set[word], set):\n",
    "                        all_pub_set &= word_to_pub_set[word]\n",
    "                    else:\n",
    "                        if not word in pub_set_cache:\n",
    "                            pub_set_cache[word] = set(word_to_pub_set[word])\n",
    "                        all_pub_set &= pub_set_cache[word]\n",
    "                    \"\"\"\n",
    "                    \n",
    "\n",
    "                    # all_pub_set = np.intersect1d(all_pub_set, word_to_pub_set[word], assume_unique = True)\n",
    "                    all_pub_set = cp.intersect1d(all_pub_set, word_to_pub_set[word], assume_unique = True)\n",
    "                    \n",
    "                    \n",
    "                    after_len = len(all_pub_set)\n",
    "                    \n",
    "                    # 集合の要素数が減ったときだけ追加\n",
    "                    if after_len < before_len:\n",
    "                        use_words_final.append(word)\n",
    "                        \n",
    "                        if number_to_word[word][:3] == 'cpc':\n",
    "                            cpc_count += 1\n",
    "\n",
    "                    # cpcのワイルドカードを使わないようにしたので、↓はいらない\n",
    "                    \"\"\"\n",
    "                    else:\n",
    "                        # cpcでなければ追加\n",
    "                        if number_to_word[word][:3] != 'cpc':\n",
    "                            use_words_final.append(word)\n",
    "                    \"\"\"\n",
    "                    # use_words_final.append(word)\n",
    "                    \n",
    "                    counts.append(len(all_pub_set))\n",
    "\n",
    "                    # nn_combだけになったら終了\n",
    "                    if len(all_pub_set) <= r: \n",
    "                        break\n",
    "                    \n",
    "                    # 近傍だけになったら終了\n",
    "                    cnt1 = len(all_pub_set)\n",
    "                    \n",
    "                    # cnt2 = len(all_pub_set & nn_set)\n",
    "                    # cnt2 = len(np.intersect1d(all_pub_set, nn_array, assume_unique = True))\n",
    "                    \n",
    "                    if cnt1 <= 50:                 \n",
    "                        t1 = time.time()\n",
    "                        cnt2 = len(cp.intersect1d(all_pub_set, nn_array, assume_unique = True))\n",
    "                        # cnt2 = cp.in1d(all_pub_set ,nn_array, assume_unique = True)\n",
    "                        # cnt2 = cnt2.sum()\n",
    "\n",
    "                        t_sum += time.time() - t1\n",
    "\n",
    "                        if cnt1 == cnt2:\n",
    "                            break\n",
    "                    \n",
    "           \n",
    "            \n",
    "            \n",
    "            use_words = tuple(use_words_final)\n",
    "            use_words_len_max = max(len(use_words), use_words_len_max)\n",
    "\n",
    "            if debug_count < -1:\n",
    "                print(counts)\n",
    "\n",
    "            debug_count += 1\n",
    "            if len(all_pub_set) <= 50: # len(all_pub_set) <= 50なしだと、多分OOM + 間に合わない\n",
    "                \n",
    "            \n",
    "                all_pub_set = cp.asnumpy(all_pub_set)\n",
    "\n",
    "                \n",
    "                nn_comb_set = set(nn_comb)\n",
    "                all_pub_set = set(all_pub_set)\n",
    "                # nn_setで、追加できるなら追加\n",
    "                add_set = all_pub_set & nn_set\n",
    "                nn_comb_set = nn_comb_set | add_set\n",
    "                \n",
    "                # neg_pub_set = all_pub_set - nn_comb_set\n",
    "\n",
    "                # if len(neg_pub_set) == 0:\n",
    "                if len(nn_comb_set) == len(all_pub_set): # negative=0なら追加\n",
    "                    add_list.append((use_words, nn_comb_set, all_pub_set))\n",
    "\n",
    "        if i <= 50:\n",
    "            print(t_sum)\n",
    "            print(f'r >= {r} len(add_list): {len(add_list)}')        \n",
    "            print('use_words_len_max ', use_words_len_max )\n",
    "\n",
    "    add_count = 0\n",
    "    for word_pattern, pub_set, all_pub_set in add_list:\n",
    "        if word_pattern in word_pattern_to_pub_set:\n",
    "            continue\n",
    "\n",
    "        word_pattern_to_pub_set[word_pattern] = pub_set\n",
    "        word_pattern_to_pub_set_all[word_pattern] = all_pub_set\n",
    "\n",
    "        add_count += 1\n",
    "\n",
    "    if i <= 50:\n",
    "        print(f'len(add_list): {len(add_list)}, add_count: {add_count}')\n",
    "    add_count_list.append(add_count)\n"
   ]
  },
  {
   "cell_type": "code",
   "execution_count": null,
   "id": "0e24e271",
   "metadata": {
    "execution": {
     "iopub.execute_input": "2024-07-24T14:39:23.688760Z",
     "iopub.status.busy": "2024-07-24T14:39:23.688425Z",
     "iopub.status.idle": "2024-07-24T14:39:23.710145Z",
     "shell.execute_reply": "2024-07-24T14:39:23.709097Z"
    },
    "papermill": {
     "duration": 0.058143,
     "end_time": "2024-07-24T14:39:23.712352",
     "exception": false,
     "start_time": "2024-07-24T14:39:23.654209",
     "status": "completed"
    },
    "tags": []
   },
   "outputs": [],
   "source": [
    "print(pd.DataFrame(add_count_list).describe())"
   ]
  },
  {
   "cell_type": "code",
   "execution_count": null,
   "id": "8f538e33",
   "metadata": {
    "execution": {
     "iopub.execute_input": "2024-07-24T14:39:23.779743Z",
     "iopub.status.busy": "2024-07-24T14:39:23.779036Z",
     "iopub.status.idle": "2024-07-24T14:39:23.783983Z",
     "shell.execute_reply": "2024-07-24T14:39:23.783127Z"
    },
    "papermill": {
     "duration": 0.039904,
     "end_time": "2024-07-24T14:39:23.786164",
     "exception": false,
     "start_time": "2024-07-24T14:39:23.746260",
     "status": "completed"
    },
    "tags": []
   },
   "outputs": [],
   "source": [
    "\"\"\"\n",
    "def count_query_len(word_pattern):\n",
    "    is_replace_AND = False\n",
    "    prefix_set = set([number_to_word[word].split(':')[0] for word in word_pattern])\n",
    "    if 'cpc' not in prefix_set:\n",
    "        is_replace_AND = True\n",
    "    \n",
    "    if len(word_pattern) == 1 or is_replace_AND:\n",
    "        token_len = 2\n",
    "    else:\n",
    "        token_len = 3\n",
    "    return token_len\n",
    "\"\"\"\n",
    "# cpcもtoken_len=2でできるようになったので、変更\n",
    "def count_query_len(word_pattern):\n",
    "    token_len = 2 \n",
    "    return token_len"
   ]
  },
  {
   "cell_type": "code",
   "execution_count": null,
   "id": "185f3fd2",
   "metadata": {
    "execution": {
     "iopub.execute_input": "2024-07-24T14:39:23.855225Z",
     "iopub.status.busy": "2024-07-24T14:39:23.854385Z",
     "iopub.status.idle": "2024-07-24T14:39:23.867178Z",
     "shell.execute_reply": "2024-07-24T14:39:23.866189Z"
    },
    "papermill": {
     "duration": 0.050025,
     "end_time": "2024-07-24T14:39:23.869454",
     "exception": false,
     "start_time": "2024-07-24T14:39:23.819429",
     "status": "completed"
    },
    "tags": []
   },
   "outputs": [],
   "source": [
    "def filtering_word_pattern_to_pub_set_list(word_pattern_to_pub_set_list):\n",
    "    \n",
    "    word_pattern_to_pub_set_list_new = []\n",
    "    # for word_pattern_to_pub_set in word_pattern_to_pub_set_list:\n",
    "    for sample_idx, word_pattern_to_pub_set in enumerate(word_pattern_to_pub_set_list):\n",
    "\n",
    "        word_pattern_to_pub_set_new = defaultdict(set)\n",
    "        sort_keys = []\n",
    "\n",
    "        # データの処理とソートキーの生成\n",
    "        for word_pattern, pub_set in word_pattern_to_pub_set.items():\n",
    "            max_count = len(word_pattern_to_pub_set_all[word_pattern])\n",
    "            if max_count <= PUB_MAX_COUNT:\n",
    "                # word_pattern_to_pub_set_new[word_pattern] = pub_set\n",
    "\n",
    "                neg_pub_set = word_pattern_to_pub_set_all[word_pattern] - pub_set                \n",
    "                neg_weight = len(neg_pub_set)\n",
    "\n",
    "                sort_key = (len(pub_set), -count_query_len(word_pattern), -neg_weight)\n",
    "                sort_keys.append((sort_key, word_pattern))\n",
    "                word_pattern_to_pub_set_new[word_pattern] = pub_set\n",
    "\n",
    "        # ソートキーでソート\n",
    "        sorted_word_patterns = sorted(sort_keys, key=lambda x: x[0], reverse=True)\n",
    "\n",
    "        # ソート結果に基づいて新しい辞書を作成\n",
    "        word_pattern_to_pub_set_new = [(word_pattern, word_pattern_to_pub_set_new[word_pattern]) for _, word_pattern in sorted_word_patterns]\n",
    "        \n",
    "        # 重複処理 \n",
    "        seen = set()\n",
    "        new_state = []\n",
    "        for word_pattern, pub_set in word_pattern_to_pub_set_new:\n",
    "            # pattern = tuple(sorted(list(pub_set)))\n",
    "            pattern = (tuple(sorted(list(pub_set))), count_query_len(word_pattern))\n",
    "            if pattern in seen:\n",
    "                continue\n",
    "            seen.add(pattern)\n",
    "            new_state.append((word_pattern, pub_set))\n",
    "        word_pattern_to_pub_set_new = new_state\n",
    "        \n",
    "        \n",
    "        # (検索結果内のtarget数、検索結果内の全てのpublication_number数)でソートした上位 PATTERN_NUM_MAX 件\n",
    "        word_pattern_to_pub_set_new = word_pattern_to_pub_set_new[:PATTERN_NUM_MAX]\n",
    "            \n",
    "        # この処理いらない。new_stateと同じデータ構造なので。\n",
    "        word_pattern_to_pub_set = []\n",
    "        for word_pattern, pub_set in word_pattern_to_pub_set_new:\n",
    "            word_pattern_to_pub_set.append((word_pattern, pub_set))\n",
    "        \n",
    "        word_pattern_to_pub_set_list_new.append(word_pattern_to_pub_set)\n",
    "\n",
    "    word_pattern_to_pub_set_list = word_pattern_to_pub_set_list_new\n",
    "    \n",
    "    return word_pattern_to_pub_set_list"
   ]
  },
  {
   "cell_type": "code",
   "execution_count": null,
   "id": "f34d9040",
   "metadata": {
    "execution": {
     "iopub.execute_input": "2024-07-24T14:39:23.938271Z",
     "iopub.status.busy": "2024-07-24T14:39:23.937891Z",
     "iopub.status.idle": "2024-07-24T14:39:24.007308Z",
     "shell.execute_reply": "2024-07-24T14:39:24.006146Z"
    },
    "papermill": {
     "duration": 0.10648,
     "end_time": "2024-07-24T14:39:24.009630",
     "exception": false,
     "start_time": "2024-07-24T14:39:23.903150",
     "status": "completed"
    },
    "tags": []
   },
   "outputs": [],
   "source": [
    "word_pattern_to_pub_set_list = filtering_word_pattern_to_pub_set_list(word_pattern_to_pub_set_list)"
   ]
  },
  {
   "cell_type": "code",
   "execution_count": null,
   "id": "69897148",
   "metadata": {
    "execution": {
     "iopub.execute_input": "2024-07-24T14:39:24.079669Z",
     "iopub.status.busy": "2024-07-24T14:39:24.079287Z",
     "iopub.status.idle": "2024-07-24T14:39:24.377642Z",
     "shell.execute_reply": "2024-07-24T14:39:24.376534Z"
    },
    "papermill": {
     "duration": 0.335563,
     "end_time": "2024-07-24T14:39:24.379877",
     "exception": false,
     "start_time": "2024-07-24T14:39:24.044314",
     "status": "completed"
    },
    "tags": []
   },
   "outputs": [],
   "source": [
    "recall_list = []\n",
    "for word_pattern_to_pub_set in word_pattern_to_pub_set_list:\n",
    "    true_set = set()\n",
    "    # for word_pattern, true_pub_set in word_pattern_to_pub_set.items():\n",
    "    for word_pattern, true_pub_set in word_pattern_to_pub_set:\n",
    "        true_set |= true_pub_set\n",
    "    recall_list.append(len(true_set))\n",
    "\n",
    "print(pd.DataFrame(recall_list).describe())\n",
    "plt.hist(recall_list)\n",
    "plt.title('recall distribution')\n",
    "plt.show()"
   ]
  },
  {
   "cell_type": "code",
   "execution_count": null,
   "id": "44e88028",
   "metadata": {
    "execution": {
     "iopub.execute_input": "2024-07-24T14:39:24.451077Z",
     "iopub.status.busy": "2024-07-24T14:39:24.450696Z",
     "iopub.status.idle": "2024-07-24T14:39:24.806696Z",
     "shell.execute_reply": "2024-07-24T14:39:24.805698Z"
    },
    "papermill": {
     "duration": 0.394189,
     "end_time": "2024-07-24T14:39:24.809082",
     "exception": false,
     "start_time": "2024-07-24T14:39:24.414893",
     "status": "completed"
    },
    "tags": []
   },
   "outputs": [],
   "source": [
    "# cpcの組み合わせ数\n",
    "lis = []\n",
    "for word_pattern_to_pub_set in word_pattern_to_pub_set_list:\n",
    "    lis.append(len(word_pattern_to_pub_set))\n",
    "print(pd.DataFrame(lis).describe())\n",
    "plt.hist(lis)\n",
    "plt.title('combincation count')"
   ]
  },
  {
   "cell_type": "code",
   "execution_count": null,
   "id": "3263ea72",
   "metadata": {
    "execution": {
     "iopub.execute_input": "2024-07-24T14:39:24.880891Z",
     "iopub.status.busy": "2024-07-24T14:39:24.880534Z",
     "iopub.status.idle": "2024-07-24T14:39:24.889509Z",
     "shell.execute_reply": "2024-07-24T14:39:24.888697Z"
    },
    "papermill": {
     "duration": 0.047273,
     "end_time": "2024-07-24T14:39:24.891567",
     "exception": false,
     "start_time": "2024-07-24T14:39:24.844294",
     "status": "completed"
    },
    "tags": []
   },
   "outputs": [],
   "source": [
    "from functools import total_ordering\n",
    "\n",
    "@total_ordering\n",
    "class State:\n",
    "    def __init__(self, use_word_pattern_list, not_use_word_pattern_list, use_true_pub_set, neg_count, score=None,\n",
    "                 is_hard_penalty=False):\n",
    "        self.use_word_pattern_list = use_word_pattern_list\n",
    "        self.not_use_word_pattern_list = not_use_word_pattern_list\n",
    "        # self.use_pub_set = use_pub_set\n",
    "        self.use_true_pub_set = use_true_pub_set\n",
    "        self.neg_count = neg_count\n",
    "        \n",
    "        # 簡単にrecall上げられるサンプルなら、negativeの重みを強める\n",
    "        self.is_hard_penalty = is_hard_penalty\n",
    "    \n",
    "    def __lt__(self, other):\n",
    "        return self.score < other.score\n",
    "\n",
    "    def __eq__(self, other):\n",
    "        return self.score == other.score\n",
    "    \n",
    "    def calc_score(self):\n",
    "        \n",
    "        # self.score = SUB_MAX_COUNT * (len(self.use_true_pub_set) - 0.25 * self.neg_count)\n",
    "        \n",
    "        if self.is_hard_penalty:\n",
    "            # self.score = len(self.use_true_pub_set) - 0.25 * self.neg_count\n",
    "            self.score = len(self.use_true_pub_set) - NEG_WEIGHT * self.neg_count\n",
    "        else:\n",
    "            self.score = len(self.use_true_pub_set) - NEG_WEIGHT * self.neg_count"
   ]
  },
  {
   "cell_type": "code",
   "execution_count": null,
   "id": "b858a119",
   "metadata": {
    "execution": {
     "iopub.execute_input": "2024-07-24T14:39:24.963923Z",
     "iopub.status.busy": "2024-07-24T14:39:24.963255Z",
     "iopub.status.idle": "2024-07-24T14:39:24.969930Z",
     "shell.execute_reply": "2024-07-24T14:39:24.968941Z"
    },
    "papermill": {
     "duration": 0.045624,
     "end_time": "2024-07-24T14:39:24.972145",
     "exception": false,
     "start_time": "2024-07-24T14:39:24.926521",
     "status": "completed"
    },
    "tags": []
   },
   "outputs": [],
   "source": [
    "class Timer:\n",
    "    def __init__(self):\n",
    "        self.start = time.time()\n",
    "\n",
    "    def get_current_time(self):\n",
    "        return (time.time() - self.start)\n",
    "    \n",
    "# 焼きなましのための確率を計算\n",
    "def calc_sa_p(new_score, score, T):\n",
    "    score_diff = new_score - score\n",
    "    if score_diff >= 0:\n",
    "        return 1\n",
    "    else:\n",
    "        return math.exp(score_diff / T)"
   ]
  },
  {
   "cell_type": "code",
   "execution_count": null,
   "id": "804defea",
   "metadata": {
    "execution": {
     "iopub.execute_input": "2024-07-24T14:39:25.045284Z",
     "iopub.status.busy": "2024-07-24T14:39:25.044855Z",
     "iopub.status.idle": "2024-07-24T14:39:25.051101Z",
     "shell.execute_reply": "2024-07-24T14:39:25.050076Z"
    },
    "papermill": {
     "duration": 0.045528,
     "end_time": "2024-07-24T14:39:25.053481",
     "exception": false,
     "start_time": "2024-07-24T14:39:25.007953",
     "status": "completed"
    },
    "tags": []
   },
   "outputs": [],
   "source": [
    "def ap50(preds, labels):\n",
    "    precisions = list()\n",
    "    n_label = len(labels)\n",
    "    n_found = 0\n",
    "    for e, i in enumerate(preds):\n",
    "        if i in labels:\n",
    "            n_found += 1\n",
    "        precisions.append(n_found/(e+1)) # this is the line that is probably incorrect for competition \n",
    "    return sum(precisions)/50"
   ]
  },
  {
   "cell_type": "code",
   "execution_count": null,
   "id": "740bc4ff",
   "metadata": {
    "execution": {
     "iopub.execute_input": "2024-07-24T14:39:25.197166Z",
     "iopub.status.busy": "2024-07-24T14:39:25.196121Z",
     "iopub.status.idle": "2024-07-24T14:39:25.202940Z",
     "shell.execute_reply": "2024-07-24T14:39:25.201980Z"
    },
    "papermill": {
     "duration": 0.045139,
     "end_time": "2024-07-24T14:39:25.205101",
     "exception": false,
     "start_time": "2024-07-24T14:39:25.159962",
     "status": "completed"
    },
    "tags": []
   },
   "outputs": [],
   "source": [
    "len(neighbors.flatten())"
   ]
  },
  {
   "cell_type": "code",
   "execution_count": null,
   "id": "0c334c3c",
   "metadata": {
    "execution": {
     "iopub.execute_input": "2024-07-24T14:39:25.277923Z",
     "iopub.status.busy": "2024-07-24T14:39:25.277017Z",
     "iopub.status.idle": "2024-07-24T14:39:25.323896Z",
     "shell.execute_reply": "2024-07-24T14:39:25.322955Z"
    },
    "papermill": {
     "duration": 0.085742,
     "end_time": "2024-07-24T14:39:25.326098",
     "exception": false,
     "start_time": "2024-07-24T14:39:25.240356",
     "status": "completed"
    },
    "tags": []
   },
   "outputs": [],
   "source": [
    "word_pattern_to_neg_list = []\n",
    "\n",
    "for sample_idx, word_pattern_to_pub_set in tqdm(enumerate(word_pattern_to_pub_set_list)):\n",
    "    \n",
    "    word_pattern_to_neg_count = dict()\n",
    "    for c, pub_set in word_pattern_to_pub_set:\n",
    "        neg_pub_set = word_pattern_to_pub_set_all[c] - pub_set\n",
    "        \n",
    "        word_pattern_to_neg_count[c] = len(neg_pub_set)\n",
    "    \n",
    "    word_pattern_to_neg_list.append(word_pattern_to_neg_count)"
   ]
  },
  {
   "cell_type": "code",
   "execution_count": null,
   "id": "28837235",
   "metadata": {
    "execution": {
     "iopub.execute_input": "2024-07-24T14:39:25.397866Z",
     "iopub.status.busy": "2024-07-24T14:39:25.397210Z",
     "iopub.status.idle": "2024-07-24T14:39:25.406920Z",
     "shell.execute_reply": "2024-07-24T14:39:25.405897Z"
    },
    "papermill": {
     "duration": 0.047324,
     "end_time": "2024-07-24T14:39:25.409211",
     "exception": false,
     "start_time": "2024-07-24T14:39:25.361887",
     "status": "completed"
    },
    "tags": []
   },
   "outputs": [],
   "source": [
    "\n",
    "\n",
    "def word_pattern_to_query(word_pattern):\n",
    "    query_rm_cpc = [s for s in word_pattern if number_to_word[s].split(':')[0] != 'cpc']\n",
    "    query_cpc = [s for s in word_pattern if number_to_word[s].split(':')[0] == 'cpc']\n",
    "    word_pattern = query_rm_cpc + query_cpc\n",
    "    \n",
    "    query = ''\n",
    "    for i, word in enumerate(word_pattern):\n",
    "        if number_to_word[word].split(':')[0] == 'cpc':\n",
    "            if i != len(word_pattern) - 1:\n",
    "                word = number_to_word[word]\n",
    "\n",
    "                # cpc:A01H6/77* これだと770~779も含まれるので、この後に対処する\n",
    "                query += f'{word}*'\n",
    "\n",
    "                # cpc:A01H6/7? を追加して70~79に制限する。\n",
    "                base = word.split('/')[0]\n",
    "                suffix = word.split('/')[1]\n",
    "                suffix = suffix[:-1] + '?'\n",
    "                query += f'{base}/{suffix}'\n",
    "            else:\n",
    "                # 最後なら、ワイルドカードを追加する必要がない\n",
    "                query += f'{number_to_word[word]}'\n",
    "        else:\n",
    "            query += f'{number_to_word[word]}-'\n",
    "    \n",
    "    # 最後のは取り除く\n",
    "    # if len(word_pattern) >= 2 and query[-1] != '?':\n",
    "    if query[-1] == '-':\n",
    "        query = query[:-1]\n",
    "    \n",
    "    query = \"(\" + query + ')'\n",
    "    return query"
   ]
  },
  {
   "cell_type": "code",
   "execution_count": null,
   "id": "bb99f1dd",
   "metadata": {
    "execution": {
     "iopub.execute_input": "2024-07-24T14:39:25.482584Z",
     "iopub.status.busy": "2024-07-24T14:39:25.481664Z",
     "iopub.status.idle": "2024-07-24T14:39:25.562957Z",
     "shell.execute_reply": "2024-07-24T14:39:25.562131Z"
    },
    "papermill": {
     "duration": 0.119695,
     "end_time": "2024-07-24T14:39:25.565293",
     "exception": false,
     "start_time": "2024-07-24T14:39:25.445598",
     "status": "completed"
    },
    "tags": []
   },
   "outputs": [],
   "source": [
    "word_pattern_to_char_len = dict()\n",
    "\n",
    "for word_pattern_to_pub_set in word_pattern_to_pub_set_list:\n",
    "    for word_pattern, _ in word_pattern_to_pub_set:\n",
    "        query = word_pattern_to_query(word_pattern)\n",
    "        word_pattern_to_char_len[word_pattern] = len(query) + 4"
   ]
  },
  {
   "cell_type": "code",
   "execution_count": null,
   "id": "984d0922",
   "metadata": {
    "execution": {
     "iopub.execute_input": "2024-07-24T14:39:25.638985Z",
     "iopub.status.busy": "2024-07-24T14:39:25.637933Z",
     "iopub.status.idle": "2024-07-24T14:39:25.644839Z",
     "shell.execute_reply": "2024-07-24T14:39:25.643816Z"
    },
    "papermill": {
     "duration": 0.046474,
     "end_time": "2024-07-24T14:39:25.647117",
     "exception": false,
     "start_time": "2024-07-24T14:39:25.600643",
     "status": "completed"
    },
    "tags": []
   },
   "outputs": [],
   "source": [
    "len(word_pattern_to_char_len)"
   ]
  },
  {
   "cell_type": "code",
   "execution_count": null,
   "id": "a50a9daa",
   "metadata": {
    "execution": {
     "iopub.execute_input": "2024-07-24T14:39:25.719888Z",
     "iopub.status.busy": "2024-07-24T14:39:25.719533Z",
     "iopub.status.idle": "2024-07-24T14:39:26.051610Z",
     "shell.execute_reply": "2024-07-24T14:39:26.050672Z"
    },
    "papermill": {
     "duration": 0.370455,
     "end_time": "2024-07-24T14:39:26.053663",
     "exception": false,
     "start_time": "2024-07-24T14:39:25.683208",
     "status": "completed"
    },
    "tags": []
   },
   "outputs": [],
   "source": [
    "counts = []\n",
    "for w, c in word_pattern_to_char_len.items():\n",
    "    counts.append(c)\n",
    "\n",
    "print(pd.DataFrame(counts).describe())\n",
    "plt.hist(counts)"
   ]
  },
  {
   "cell_type": "code",
   "execution_count": null,
   "id": "a8b674b0",
   "metadata": {
    "execution": {
     "iopub.execute_input": "2024-07-24T14:39:26.126844Z",
     "iopub.status.busy": "2024-07-24T14:39:26.126472Z",
     "iopub.status.idle": "2024-07-24T14:39:38.572429Z",
     "shell.execute_reply": "2024-07-24T14:39:38.571460Z"
    },
    "papermill": {
     "duration": 12.487997,
     "end_time": "2024-07-24T14:39:38.576225",
     "exception": false,
     "start_time": "2024-07-24T14:39:26.088228",
     "status": "completed"
    },
    "tags": []
   },
   "outputs": [],
   "source": [
    "query_list = []\n",
    "default_query = 'ti:bread'\n",
    "\n",
    "# 結果の可視化用\n",
    "success_count = 0\n",
    "score_list = []\n",
    "true_pub_set_len_list = [0] * len(word_pattern_to_pub_set_list)\n",
    "pub_set_len_list = [0] * len(word_pattern_to_pub_set_list)\n",
    "neg_count_list = [0] * len(word_pattern_to_pub_set_list)\n",
    "\n",
    "# for _, word_pattern_counter in tqdm(enumerate(word_pattern_counter_list), total=len(word_pattern_counter_list)):\n",
    "for sample_idx, word_pattern_to_pub_set in tqdm(enumerate(word_pattern_to_pub_set_list), total=len(word_pattern_to_pub_set_list)):\n",
    "    word_pattern_to_neg_count = word_pattern_to_neg_list[sample_idx]\n",
    "    \n",
    "    true_set = set(nn_df.values[sample_idx, 1:])\n",
    "    labels = list(nn_df.values[sample_idx, 1:])\n",
    "    labels = [num_to_pub[pub] for pub in labels]\n",
    "    \n",
    "    # 検索クエリの候補が0のとき\n",
    "    if len(word_pattern_to_pub_set) == 0:\n",
    "        score_list.append(0)\n",
    "        query_list.append(default_query)\n",
    "        continue\n",
    "    \n",
    "    word_pattern_to_pub_set_dict = dict()\n",
    "    for word_pattern, pub_set in word_pattern_to_pub_set:        \n",
    "        word_pattern_to_pub_set_dict[word_pattern] = pub_set\n",
    "    \n",
    "    use_word_pattern_list = []\n",
    "    not_use_word_pattern_list = []\n",
    "    for word_pattern, _ in word_pattern_to_pub_set:\n",
    "        not_use_word_pattern_list.append(word_pattern)\n",
    "        \n",
    "    # count_query_len に2秒くらい取られているので、事前計算\n",
    "    word_pattern_to_query_len = dict()\n",
    "    for word_pattern, _ in word_pattern_to_pub_set:\n",
    "        word_pattern_to_query_len[word_pattern] = count_query_len(word_pattern)\n",
    "        \n",
    "\n",
    "    curr_state = State([], [], set(), 0, 0)\n",
    "    curr_state.score = 0\n",
    "    \n",
    "    # queryの差分更新用\n",
    "    curr_query_len = -1\n",
    "    best_query_len = -1\n",
    "    curr_char_len = -4\n",
    "    best_char_len = -4\n",
    "\n",
    "    \n",
    "    best_states = []\n",
    "    timer = Timer()\n",
    "    \n",
    "    # 焼きなましによるスコアの変化の可視化用\n",
    "    _score_list = []\n",
    "    \n",
    "    best_state = copy.deepcopy(curr_state)\n",
    "    # best_state.calc_score()\n",
    "    best_state.score = 0\n",
    "    \n",
    "    # どの近傍が使われたかをcount\n",
    "    pattern_count = [0, 0]\n",
    "    \n",
    "    # debugで時間計測用\n",
    "    time_sum = [0]\n",
    "    \n",
    "    # neg_pickedのペナルティを強めるか\n",
    "    is_hard_penalty = False\n",
    "    \n",
    "    while True:\n",
    "        curr_time = timer.get_current_time()\n",
    "       \n",
    "        # if curr_time > max_time:\n",
    "        if curr_time > max_time:\n",
    "            break\n",
    "            \n",
    "        t = curr_time / max_time\n",
    "        T = T0**(1-t) * T1**t\n",
    "        \n",
    "        p = random.random()\n",
    "        \n",
    "        if p >= 0.5:\n",
    "            act = 'add_pattern'\n",
    "        else:\n",
    "            act = 'remove_pattern'\n",
    "\n",
    "        next_state = State([], \n",
    "                           [], \n",
    "                           set(), 0, 0,\n",
    "                           is_hard_penalty)\n",
    "\n",
    "        if act == 'add_pattern':\n",
    "            N = len(not_use_word_pattern_list)\n",
    "            if N == 0:\n",
    "                continue\n",
    "            idx = random.randint(0, N-1)\n",
    "            c = not_use_word_pattern_list[idx]\n",
    "            \n",
    "            # query_len = count_query_len(c)\n",
    "            query_len = word_pattern_to_query_len[c]\n",
    "            char_len = word_pattern_to_char_len[c]\n",
    "        \n",
    "            if curr_query_len + query_len > 50 or curr_char_len + char_len > CHAR_LIMIT:\n",
    "                is_exceed_query_limit = True\n",
    "            else:\n",
    "                is_exceed_query_limit = False\n",
    "        elif act == 'remove_pattern':\n",
    "            N = len(use_word_pattern_list)\n",
    "            if N == 0:\n",
    "                continue\n",
    "            idx = random.randint(0, N-1)\n",
    "            c = use_word_pattern_list[idx]\n",
    "            \n",
    "            query_len = word_pattern_to_query_len[c]\n",
    "            char_len = word_pattern_to_char_len[c]\n",
    "            is_exceed_query_limit = False\n",
    "\n",
    "        if is_exceed_query_limit:\n",
    "            continue\n",
    "        \n",
    "        # 差分更新にして高速化 add_pattern 0.6s remove_pattern 1.4s\n",
    "        if act == 'add_pattern':\n",
    "            neg_count = curr_state.neg_count + word_pattern_to_neg_count[c]\n",
    "            use_true_pub_set = curr_state.use_true_pub_set | word_pattern_to_pub_set_dict[c]\n",
    "            \n",
    "            update_count = len(use_true_pub_set) - len(curr_state.use_true_pub_set)\n",
    "            # recall向上しないならcontinue\n",
    "            if update_count == 0:\n",
    "                continue\n",
    "        else:\n",
    "            neg_count = 0\n",
    "            use_true_pub_set = set()\n",
    "\n",
    "            for word_pattern in use_word_pattern_list:\n",
    "                if act == 'remove_pattern' and word_pattern == c:\n",
    "                    continue\n",
    "\n",
    "                neg_count += word_pattern_to_neg_count[word_pattern]\n",
    "                if len(use_true_pub_set) + neg_count > SUB_MAX_COUNT:\n",
    "                    break\n",
    "                   \n",
    "                use_true_pub_set |= word_pattern_to_pub_set_dict[word_pattern]\n",
    "            \n",
    "        \n",
    "        # 検索結果数が閾値より大きいときは候補にしない。\n",
    "        if len(use_true_pub_set) + neg_count > SUB_MAX_COUNT or neg_count > NEG_MAX_COUNT:\n",
    "            continue\n",
    "\n",
    "        # next_state.use_pub_set = use_pub_set\n",
    "        next_state.neg_count = neg_count\n",
    "        next_state.use_true_pub_set = use_true_pub_set\n",
    "        next_state.calc_score()\n",
    "        \n",
    "        # 新しい状態を受理する確率\n",
    "        sa_p = calc_sa_p(next_state.score, curr_state.score, T)\n",
    "\n",
    "        if random.random() < sa_p:\n",
    "            curr_state = next_state\n",
    "            # curr_query_list = next_query_list\n",
    "            if act == 'add_pattern':\n",
    "                c = not_use_word_pattern_list.pop(idx)\n",
    "                use_word_pattern_list.append(c)\n",
    "                curr_query_len += query_len\n",
    "                curr_char_len += char_len\n",
    "            elif act == 'remove_pattern':\n",
    "                c = use_word_pattern_list.pop(idx)\n",
    "                not_use_word_pattern_list.append(c)\n",
    "                curr_query_len -= query_len\n",
    "                curr_char_len -= char_len\n",
    "        else:\n",
    "            pass\n",
    "\n",
    "        # _score_list.append(len(curr_state.use_true_pub_set))\n",
    "        _score_list.append(curr_state.score)\n",
    "        \n",
    "        \n",
    "        if curr_state.score > best_state.score:\n",
    "            best_state = curr_state\n",
    "            best_state.use_word_pattern_list = copy.deepcopy(use_word_pattern_list)\n",
    "            # best_query_list = copy.deepcopy(curr_query_list)\n",
    "            best_query_len = curr_query_len\n",
    "            best_char_len = curr_char_len\n",
    "            \n",
    "            if best_state.score >= 35 and not is_hard_penalty:\n",
    "                is_hard_penalty = True\n",
    "                curr_state.is_hard_penalty = True\n",
    "                curr_state.calc_score()\n",
    "                best_state.is_hard_penalty = True\n",
    "                best_state.calc_score()\n",
    "        \n",
    "        \n",
    "        if act == 'add_pattern':\n",
    "            pattern_count[0] += 1\n",
    "        else:\n",
    "            pattern_count[1] += 1\n",
    "    # print(time_sum)\n",
    "    # print(pattern_count)\n",
    "    # debug用\n",
    "    if sample_idx < 50:\n",
    "        plt.plot(_score_list)\n",
    "        plt.show()\n",
    "    \n",
    "    # best_stateで提出用のqueryを作る\n",
    "    if best_state is None:\n",
    "        print('error: best_state is None')\n",
    "        print(1/0)\n",
    "        # query_list.append(default_query)\n",
    "    else:\n",
    "        \"\"\"\n",
    "        use_true_pub_set = best_state.use_true_pub_set\n",
    "        use_pub_set = best_state.use_pub_set\n",
    "        \"\"\"\n",
    "        use_true_pub_set = set()\n",
    "        use_pub_set = set()\n",
    "        for c in best_state.use_word_pattern_list:\n",
    "            use_pub_set |= word_pattern_to_pub_set_all[c]\n",
    "            use_true_pub_set |= word_pattern_to_pub_set_dict[c]\n",
    "        \n",
    "        use_word_pattern_list = best_state.use_word_pattern_list\n",
    "        \n",
    "        true_pub_set_len_list[sample_idx] = len(use_true_pub_set)\n",
    "        pub_set_len_list[sample_idx] = len(use_pub_set)\n",
    "        neg_count_list[sample_idx] = best_state.neg_count\n",
    "        \n",
    "        query = ''\n",
    "        for i, word_pattern in enumerate(use_word_pattern_list):\n",
    "            prev_query = query\n",
    "\n",
    "            _query = word_pattern_to_query(word_pattern)\n",
    "            \n",
    "            query += _query\n",
    "            \n",
    "            if i != len(use_word_pattern_list) - 1:\n",
    "                query += ' OR '\n",
    "                \n",
    "            if whoosh_utils.count_query_tokens(query) > 50 or len(query) > CHAR_LIMIT + 500:\n",
    " \n",
    "                # エラー出して止まるようにする\n",
    "                print('query limit error')\n",
    "                print(1/0)\n",
    "                \n",
    "                query = prev_query\n",
    "                break\n",
    "        \n",
    "        # assert best_query_len == len(query.split())\n",
    "            \n",
    "        query_list.append(query)\n",
    "        success_count += 1\n",
    "        \n",
    "        if IS_TRAIN:\n",
    "            results = whoosh_utils.execute_query(query, qp, searcher)\n",
    "            result_set = set(results)\n",
    "            n_pick = len(set(labels) & result_set)\n",
    "            score = ap50(results + [-1] * (50 - len(results)), labels)\n",
    "        else:\n",
    "            score = 0\n",
    "            n_pick = 0\n",
    "        \n",
    "        if sample_idx < 50:\n",
    "            print(query)\n",
    "            print('ap50', score)\n",
    "            print('n_pick', n_pick)\n",
    "            print('true_count', true_pub_set_len_list[sample_idx])\n",
    "            print('neg_count', neg_count_list[sample_idx])\n",
    "            print(len(query), best_char_len)\n",
    "        \n",
    "        score_list.append(score)"
   ]
  },
  {
   "cell_type": "code",
   "execution_count": null,
   "id": "b373bcad",
   "metadata": {
    "execution": {
     "iopub.execute_input": "2024-07-24T14:39:38.661497Z",
     "iopub.status.busy": "2024-07-24T14:39:38.660552Z",
     "iopub.status.idle": "2024-07-24T14:39:38.667286Z",
     "shell.execute_reply": "2024-07-24T14:39:38.666297Z"
    },
    "papermill": {
     "duration": 0.052493,
     "end_time": "2024-07-24T14:39:38.669450",
     "exception": false,
     "start_time": "2024-07-24T14:39:38.616957",
     "status": "completed"
    },
    "tags": []
   },
   "outputs": [],
   "source": [
    "np.mean(true_pub_set_len_list)"
   ]
  },
  {
   "cell_type": "code",
   "execution_count": null,
   "id": "ae990159",
   "metadata": {
    "execution": {
     "iopub.execute_input": "2024-07-24T14:39:38.753560Z",
     "iopub.status.busy": "2024-07-24T14:39:38.753205Z",
     "iopub.status.idle": "2024-07-24T14:39:39.112960Z",
     "shell.execute_reply": "2024-07-24T14:39:39.111980Z"
    },
    "papermill": {
     "duration": 0.403301,
     "end_time": "2024-07-24T14:39:39.115131",
     "exception": false,
     "start_time": "2024-07-24T14:39:38.711830",
     "status": "completed"
    },
    "tags": []
   },
   "outputs": [],
   "source": [
    "plt.hist(true_pub_set_len_list)\n",
    "plt.title('true_pub_set_len_list distribution')"
   ]
  },
  {
   "cell_type": "code",
   "execution_count": null,
   "id": "226e3f16",
   "metadata": {
    "execution": {
     "iopub.execute_input": "2024-07-24T14:39:39.201268Z",
     "iopub.status.busy": "2024-07-24T14:39:39.200427Z",
     "iopub.status.idle": "2024-07-24T14:39:39.206834Z",
     "shell.execute_reply": "2024-07-24T14:39:39.205868Z"
    },
    "papermill": {
     "duration": 0.051047,
     "end_time": "2024-07-24T14:39:39.208898",
     "exception": false,
     "start_time": "2024-07-24T14:39:39.157851",
     "status": "completed"
    },
    "tags": []
   },
   "outputs": [],
   "source": [
    "np.mean(score_list)"
   ]
  },
  {
   "cell_type": "code",
   "execution_count": null,
   "id": "8c889992",
   "metadata": {
    "execution": {
     "iopub.execute_input": "2024-07-24T14:39:39.294893Z",
     "iopub.status.busy": "2024-07-24T14:39:39.294517Z",
     "iopub.status.idle": "2024-07-24T14:39:39.610515Z",
     "shell.execute_reply": "2024-07-24T14:39:39.609487Z"
    },
    "papermill": {
     "duration": 0.36277,
     "end_time": "2024-07-24T14:39:39.612858",
     "exception": false,
     "start_time": "2024-07-24T14:39:39.250088",
     "status": "completed"
    },
    "tags": []
   },
   "outputs": [],
   "source": [
    "plt.hist(score_list)\n",
    "plt.title('score_list distribution')"
   ]
  },
  {
   "cell_type": "code",
   "execution_count": null,
   "id": "b440c13d",
   "metadata": {
    "execution": {
     "iopub.execute_input": "2024-07-24T14:39:39.700835Z",
     "iopub.status.busy": "2024-07-24T14:39:39.700496Z",
     "iopub.status.idle": "2024-07-24T14:39:39.707069Z",
     "shell.execute_reply": "2024-07-24T14:39:39.705948Z"
    },
    "papermill": {
     "duration": 0.052779,
     "end_time": "2024-07-24T14:39:39.709287",
     "exception": false,
     "start_time": "2024-07-24T14:39:39.656508",
     "status": "completed"
    },
    "tags": []
   },
   "outputs": [],
   "source": [
    "np.mean(pub_set_len_list)"
   ]
  },
  {
   "cell_type": "code",
   "execution_count": null,
   "id": "d4baebe4",
   "metadata": {
    "execution": {
     "iopub.execute_input": "2024-07-24T14:39:39.795851Z",
     "iopub.status.busy": "2024-07-24T14:39:39.795107Z",
     "iopub.status.idle": "2024-07-24T14:39:40.154589Z",
     "shell.execute_reply": "2024-07-24T14:39:40.153694Z"
    },
    "papermill": {
     "duration": 0.405299,
     "end_time": "2024-07-24T14:39:40.156741",
     "exception": false,
     "start_time": "2024-07-24T14:39:39.751442",
     "status": "completed"
    },
    "tags": []
   },
   "outputs": [],
   "source": [
    "plt.hist(pub_set_len_list)\n",
    "plt.title('pub_set_len_list distribution')"
   ]
  },
  {
   "cell_type": "code",
   "execution_count": null,
   "id": "ad82eb50",
   "metadata": {
    "execution": {
     "iopub.execute_input": "2024-07-24T14:39:40.245063Z",
     "iopub.status.busy": "2024-07-24T14:39:40.244618Z",
     "iopub.status.idle": "2024-07-24T14:39:40.251199Z",
     "shell.execute_reply": "2024-07-24T14:39:40.250318Z"
    },
    "papermill": {
     "duration": 0.052952,
     "end_time": "2024-07-24T14:39:40.253225",
     "exception": false,
     "start_time": "2024-07-24T14:39:40.200273",
     "status": "completed"
    },
    "tags": []
   },
   "outputs": [],
   "source": [
    "np.mean(neg_count_list)"
   ]
  },
  {
   "cell_type": "code",
   "execution_count": null,
   "id": "3896f3eb",
   "metadata": {
    "execution": {
     "iopub.execute_input": "2024-07-24T14:39:40.340389Z",
     "iopub.status.busy": "2024-07-24T14:39:40.340033Z",
     "iopub.status.idle": "2024-07-24T14:39:40.653926Z",
     "shell.execute_reply": "2024-07-24T14:39:40.652894Z"
    },
    "papermill": {
     "duration": 0.360272,
     "end_time": "2024-07-24T14:39:40.656169",
     "exception": false,
     "start_time": "2024-07-24T14:39:40.295897",
     "status": "completed"
    },
    "tags": []
   },
   "outputs": [],
   "source": [
    "plt.hist(neg_count_list)\n",
    "plt.title('neg_count_list distribution')"
   ]
  },
  {
   "cell_type": "code",
   "execution_count": null,
   "id": "ea402eec",
   "metadata": {
    "execution": {
     "iopub.execute_input": "2024-07-24T14:39:40.829215Z",
     "iopub.status.busy": "2024-07-24T14:39:40.828251Z",
     "iopub.status.idle": "2024-07-24T14:39:40.835273Z",
     "shell.execute_reply": "2024-07-24T14:39:40.834404Z"
    },
    "papermill": {
     "duration": 0.055145,
     "end_time": "2024-07-24T14:39:40.837410",
     "exception": false,
     "start_time": "2024-07-24T14:39:40.782265",
     "status": "completed"
    },
    "tags": []
   },
   "outputs": [],
   "source": [
    "neg_count_list_2 = [pub_set_len_list[i] - true_pub_set_len_list[i]\n",
    "                  for i in range(len(pub_set_len_list))]\n",
    "np.mean(neg_count_list_2)"
   ]
  },
  {
   "cell_type": "code",
   "execution_count": null,
   "id": "d4161149",
   "metadata": {
    "execution": {
     "iopub.execute_input": "2024-07-24T14:39:40.929750Z",
     "iopub.status.busy": "2024-07-24T14:39:40.929391Z",
     "iopub.status.idle": "2024-07-24T14:39:41.249285Z",
     "shell.execute_reply": "2024-07-24T14:39:41.248274Z"
    },
    "papermill": {
     "duration": 0.368387,
     "end_time": "2024-07-24T14:39:41.251578",
     "exception": false,
     "start_time": "2024-07-24T14:39:40.883191",
     "status": "completed"
    },
    "tags": []
   },
   "outputs": [],
   "source": [
    "plt.hist(neg_count_list_2)\n",
    "plt.title('neg_count_list_2 distribution')"
   ]
  },
  {
   "cell_type": "code",
   "execution_count": null,
   "id": "c0ea3c12",
   "metadata": {
    "execution": {
     "iopub.execute_input": "2024-07-24T14:39:41.342441Z",
     "iopub.status.busy": "2024-07-24T14:39:41.342071Z",
     "iopub.status.idle": "2024-07-24T14:39:41.656332Z",
     "shell.execute_reply": "2024-07-24T14:39:41.655291Z"
    },
    "papermill": {
     "duration": 0.36268,
     "end_time": "2024-07-24T14:39:41.658730",
     "exception": false,
     "start_time": "2024-07-24T14:39:41.296050",
     "status": "completed"
    },
    "tags": []
   },
   "outputs": [],
   "source": [
    "neg_count_list_diff = [neg_count_list[i] - neg_count_list_2[i] for i in range(len(neg_count_list))]\n",
    "print(np.mean(neg_count_list_diff ))\n",
    "plt.hist(neg_count_list_diff)\n",
    "plt.title('neg_count_list_diff distribution')"
   ]
  },
  {
   "cell_type": "code",
   "execution_count": null,
   "id": "ec2685c3",
   "metadata": {
    "execution": {
     "iopub.execute_input": "2024-07-24T14:39:41.749758Z",
     "iopub.status.busy": "2024-07-24T14:39:41.749405Z",
     "iopub.status.idle": "2024-07-24T14:39:41.754550Z",
     "shell.execute_reply": "2024-07-24T14:39:41.753625Z"
    },
    "papermill": {
     "duration": 0.054001,
     "end_time": "2024-07-24T14:39:41.757085",
     "exception": false,
     "start_time": "2024-07-24T14:39:41.703084",
     "status": "completed"
    },
    "tags": []
   },
   "outputs": [],
   "source": [
    "if IS_TRAIN:\n",
    "    [print(s) for s in true_pub_set_len_list[:50]]\n",
    "else:\n",
    "    print(score_list[:10])"
   ]
  },
  {
   "cell_type": "code",
   "execution_count": null,
   "id": "74611566",
   "metadata": {
    "execution": {
     "iopub.execute_input": "2024-07-24T14:39:41.850776Z",
     "iopub.status.busy": "2024-07-24T14:39:41.850399Z",
     "iopub.status.idle": "2024-07-24T14:39:41.855931Z",
     "shell.execute_reply": "2024-07-24T14:39:41.854951Z"
    },
    "papermill": {
     "duration": 0.05656,
     "end_time": "2024-07-24T14:39:41.858557",
     "exception": false,
     "start_time": "2024-07-24T14:39:41.801997",
     "status": "completed"
    },
    "tags": []
   },
   "outputs": [],
   "source": [
    "if IS_TRAIN:\n",
    "    [print(s) for s in score_list[:50]]\n",
    "else:\n",
    "    print(score_list[:10])"
   ]
  },
  {
   "cell_type": "code",
   "execution_count": null,
   "id": "2fe53a02",
   "metadata": {
    "execution": {
     "iopub.execute_input": "2024-07-24T14:39:41.953137Z",
     "iopub.status.busy": "2024-07-24T14:39:41.952762Z",
     "iopub.status.idle": "2024-07-24T14:39:42.430552Z",
     "shell.execute_reply": "2024-07-24T14:39:42.429574Z"
    },
    "papermill": {
     "duration": 0.528023,
     "end_time": "2024-07-24T14:39:42.433049",
     "exception": false,
     "start_time": "2024-07-24T14:39:41.905026",
     "status": "completed"
    },
    "tags": []
   },
   "outputs": [],
   "source": [
    "query_count_list = [whoosh_utils.count_query_tokens(query) for query in query_list]\n",
    "print(max(query_count_list))\n",
    "plt.hist(query_count_list)\n",
    "\n",
    "plt.title('token len distribution')\n",
    "plt.show()"
   ]
  },
  {
   "cell_type": "code",
   "execution_count": null,
   "id": "7fe07b5c",
   "metadata": {
    "execution": {
     "iopub.execute_input": "2024-07-24T14:39:42.528606Z",
     "iopub.status.busy": "2024-07-24T14:39:42.528218Z",
     "iopub.status.idle": "2024-07-24T14:39:42.822879Z",
     "shell.execute_reply": "2024-07-24T14:39:42.821957Z"
    },
    "papermill": {
     "duration": 0.344308,
     "end_time": "2024-07-24T14:39:42.824958",
     "exception": false,
     "start_time": "2024-07-24T14:39:42.480650",
     "status": "completed"
    },
    "tags": []
   },
   "outputs": [],
   "source": [
    "character_len_list = [len(query) for query in query_list]\n",
    "print(max(character_len_list))\n",
    "plt.hist(character_len_list)\n",
    "plt.title('character len distribution')\n",
    "plt.show()"
   ]
  },
  {
   "cell_type": "code",
   "execution_count": null,
   "id": "7d7b4ac4",
   "metadata": {
    "execution": {
     "iopub.execute_input": "2024-07-24T14:39:42.919993Z",
     "iopub.status.busy": "2024-07-24T14:39:42.919575Z",
     "iopub.status.idle": "2024-07-24T14:39:42.926607Z",
     "shell.execute_reply": "2024-07-24T14:39:42.925594Z"
    },
    "papermill": {
     "duration": 0.057794,
     "end_time": "2024-07-24T14:39:42.928977",
     "exception": false,
     "start_time": "2024-07-24T14:39:42.871183",
     "status": "completed"
    },
    "tags": []
   },
   "outputs": [],
   "source": [
    "len(nn_df), len(query_list), success_count"
   ]
  },
  {
   "cell_type": "markdown",
   "id": "5e9421b4",
   "metadata": {
    "papermill": {
     "duration": 0.048454,
     "end_time": "2024-07-24T14:39:43.025861",
     "exception": false,
     "start_time": "2024-07-24T14:39:42.977407",
     "status": "completed"
    },
    "tags": []
   },
   "source": [
    "# make oof"
   ]
  },
  {
   "cell_type": "code",
   "execution_count": null,
   "id": "69e13832",
   "metadata": {
    "execution": {
     "iopub.execute_input": "2024-07-24T14:39:43.125045Z",
     "iopub.status.busy": "2024-07-24T14:39:43.123827Z",
     "iopub.status.idle": "2024-07-24T14:39:43.132266Z",
     "shell.execute_reply": "2024-07-24T14:39:43.131310Z"
    },
    "papermill": {
     "duration": 0.060496,
     "end_time": "2024-07-24T14:39:43.134566",
     "exception": false,
     "start_time": "2024-07-24T14:39:43.074070",
     "status": "completed"
    },
    "tags": []
   },
   "outputs": [],
   "source": [
    "if IS_TRAIN:\n",
    "    columns = ['query_list',\n",
    "               'true_pub_set_len_list',\n",
    "               'score_list',\n",
    "               'pub_set_len_list',\n",
    "               'neg_count_list',\n",
    "               'neg_count_list_2',\n",
    "               'query_count_list',\n",
    "               'character_len_list']\n",
    "    values = np.array([ query_list,\n",
    "               true_pub_set_len_list,\n",
    "               score_list,\n",
    "               pub_set_len_list,\n",
    "               neg_count_list,\n",
    "               neg_count_list_2,\n",
    "               query_count_list,\n",
    "               character_len_list]).T\n",
    "    \n",
    "    \n",
    "    oof_df = pd.DataFrame(values, columns=columns)\n",
    "    \n",
    "    print(oof_df.head())\n",
    "    oof_df.to_csv('oof_df.csv', index=False)"
   ]
  },
  {
   "cell_type": "code",
   "execution_count": null,
   "id": "1b37b10a",
   "metadata": {
    "execution": {
     "iopub.execute_input": "2024-07-24T14:39:43.240673Z",
     "iopub.status.busy": "2024-07-24T14:39:43.240205Z",
     "iopub.status.idle": "2024-07-24T14:39:43.585749Z",
     "shell.execute_reply": "2024-07-24T14:39:43.584756Z"
    },
    "papermill": {
     "duration": 0.403458,
     "end_time": "2024-07-24T14:39:43.588173",
     "exception": false,
     "start_time": "2024-07-24T14:39:43.184715",
     "status": "completed"
    },
    "tags": []
   },
   "outputs": [],
   "source": [
    "plt.scatter(true_pub_set_len_list, score_list)\n",
    "plt.xlabel('true_pub_set_len_list')\n",
    "plt.ylabel('score_list')"
   ]
  },
  {
   "cell_type": "code",
   "execution_count": null,
   "id": "ea2fdb26",
   "metadata": {
    "execution": {
     "iopub.execute_input": "2024-07-24T14:39:43.686146Z",
     "iopub.status.busy": "2024-07-24T14:39:43.685791Z",
     "iopub.status.idle": "2024-07-24T14:39:43.960645Z",
     "shell.execute_reply": "2024-07-24T14:39:43.959656Z"
    },
    "papermill": {
     "duration": 0.328372,
     "end_time": "2024-07-24T14:39:43.962986",
     "exception": false,
     "start_time": "2024-07-24T14:39:43.634614",
     "status": "completed"
    },
    "tags": []
   },
   "outputs": [],
   "source": [
    "idxs = [i for i in range(len(true_pub_set_len_list)) if score_list[i] != 0]\n",
    "true_pub_set_len_list = [true_pub_set_len_list[i] for i in idxs]\n",
    "score_list = [score_list[i] for i in idxs]\n",
    "print(len(true_pub_set_len_list))\n",
    "plt.scatter(true_pub_set_len_list, score_list)\n",
    "plt.xlabel('true_pub_set_len_list')\n",
    "plt.ylabel('score_list')"
   ]
  },
  {
   "cell_type": "markdown",
   "id": "565c9f3d",
   "metadata": {
    "papermill": {
     "duration": 0.04858,
     "end_time": "2024-07-24T14:39:44.060644",
     "exception": false,
     "start_time": "2024-07-24T14:39:44.012064",
     "status": "completed"
    },
    "tags": []
   },
   "source": [
    "# submission"
   ]
  },
  {
   "cell_type": "code",
   "execution_count": null,
   "id": "cab277da",
   "metadata": {
    "execution": {
     "iopub.execute_input": "2024-07-24T14:39:44.251077Z",
     "iopub.status.busy": "2024-07-24T14:39:44.250680Z",
     "iopub.status.idle": "2024-07-24T14:39:44.258462Z",
     "shell.execute_reply": "2024-07-24T14:39:44.257457Z"
    },
    "papermill": {
     "duration": 0.060343,
     "end_time": "2024-07-24T14:39:44.260693",
     "exception": false,
     "start_time": "2024-07-24T14:39:44.200350",
     "status": "completed"
    },
    "tags": []
   },
   "outputs": [],
   "source": [
    "default_query = 'ti:bread'\n",
    "\n",
    "for i in range(len(query_list)):\n",
    "    if 'id:' in query_list[i]:\n",
    "        query_list[i] = default_query\n",
    "\n",
    "\"\"\"\n",
    "for i in range(len(query_list)):\n",
    "    try:\n",
    "        result = whoosh_utils.execute_query(query_list[i], qp, searcher)\n",
    "    except Exception as e:\n",
    "        query_list[i] = default_query\n",
    "\"\"\""
   ]
  },
  {
   "cell_type": "code",
   "execution_count": null,
   "id": "8d80d487",
   "metadata": {
    "execution": {
     "iopub.execute_input": "2024-07-24T14:39:44.457201Z",
     "iopub.status.busy": "2024-07-24T14:39:44.456285Z",
     "iopub.status.idle": "2024-07-24T14:39:44.461431Z",
     "shell.execute_reply": "2024-07-24T14:39:44.460463Z"
    },
    "papermill": {
     "duration": 0.057349,
     "end_time": "2024-07-24T14:39:44.463516",
     "exception": false,
     "start_time": "2024-07-24T14:39:44.406167",
     "status": "completed"
    },
    "tags": []
   },
   "outputs": [],
   "source": [
    "for i in range(len(query_list)):\n",
    "    if query_list[i] == '':\n",
    "        query_list[i] = default_query"
   ]
  },
  {
   "cell_type": "code",
   "execution_count": null,
   "id": "2a10aaeb",
   "metadata": {
    "execution": {
     "iopub.execute_input": "2024-07-24T14:39:44.563831Z",
     "iopub.status.busy": "2024-07-24T14:39:44.563438Z",
     "iopub.status.idle": "2024-07-24T14:39:44.570504Z",
     "shell.execute_reply": "2024-07-24T14:39:44.569675Z"
    },
    "papermill": {
     "duration": 0.060281,
     "end_time": "2024-07-24T14:39:44.572417",
     "exception": false,
     "start_time": "2024-07-24T14:39:44.512136",
     "status": "completed"
    },
    "tags": []
   },
   "outputs": [],
   "source": [
    "\"\"\"\n",
    "if not IS_TRAIN:\n",
    "    # train_idx = whoosh_utils.load_index('/kaggle/input/create-valid-index-add-claim/test_index')\n",
    "    train_idx = whoosh_utils.load_index('/kaggle/input/uspto-test-index/test_index')\n",
    "    searcher = whoosh_utils.get_searcher(train_idx)\n",
    "    qp = whoosh_utils.get_query_parser()\n",
    "\n",
    "    # query = 'ti:balloons OR ti:string'\n",
    "    query = '(cpc:A01H6/42 ab:cuttings) OR (ab:regal-ab:rooting) OR (ab:magenta-ab:umbels) OR (ti:geranium-ti:variety-ab:cherry-ab:foliage-ab:pink-clm:geranium) OR (ti:bravo-ab:bicolored) OR (ab:foliage-ab:geranium-ab:regal-clm:geranium-detd:duchess) OR (ti:debutante-ti:pelargonium) OR (ti:geranium-ab:bright-ab:garden-ab:geranium-ab:mounded-ab:zonal-clm:geranium-clm:oglger14007-clm:zonal-detd:oglger14007) OR (ti:geranium-ti:variety-ab:blossoms-ab:foliage-ab:orchid-clm:geranium) OR (ti:louise-ab:ivy) OR (ti:hots) OR (ti:geranium-ti:variety-ab:orange-ab:rain-clm:geranium)'\n",
    "    print(whoosh_utils.execute_query(query, qp, searcher)[:5])\n",
    "\"\"\""
   ]
  },
  {
   "cell_type": "code",
   "execution_count": null,
   "id": "d74afb33",
   "metadata": {
    "execution": {
     "iopub.execute_input": "2024-07-24T14:39:44.670419Z",
     "iopub.status.busy": "2024-07-24T14:39:44.670083Z",
     "iopub.status.idle": "2024-07-24T14:39:44.676142Z",
     "shell.execute_reply": "2024-07-24T14:39:44.675274Z"
    },
    "papermill": {
     "duration": 0.057919,
     "end_time": "2024-07-24T14:39:44.678331",
     "exception": false,
     "start_time": "2024-07-24T14:39:44.620412",
     "status": "completed"
    },
    "tags": []
   },
   "outputs": [],
   "source": [
    "\"\"\"\n",
    "for i in range(len(query_list)):\n",
    "    try:\n",
    "        result = whoosh_utils.execute_query(query_list[i], qp, searcher)\n",
    "    except Exception as e:\n",
    "        print(e)\n",
    "        query_list[i] = default_query\n",
    "\"\"\""
   ]
  },
  {
   "cell_type": "code",
   "execution_count": null,
   "id": "c2ee0885",
   "metadata": {
    "execution": {
     "iopub.execute_input": "2024-07-24T14:39:44.775665Z",
     "iopub.status.busy": "2024-07-24T14:39:44.775311Z",
     "iopub.status.idle": "2024-07-24T14:39:44.794223Z",
     "shell.execute_reply": "2024-07-24T14:39:44.793187Z"
    },
    "papermill": {
     "duration": 0.069144,
     "end_time": "2024-07-24T14:39:44.796473",
     "exception": false,
     "start_time": "2024-07-24T14:39:44.727329",
     "status": "completed"
    },
    "tags": []
   },
   "outputs": [],
   "source": [
    "if not IS_TRAIN:\n",
    "    sub = pd.read_csv('/kaggle/input/uspto-explainable-ai/sample_submission.csv')\n",
    "    \n",
    "    sub['query'] = query_list\n",
    "    \n",
    "    sub.to_csv('submission.csv', index=False)\n",
    "    \n",
    "    print(sub)"
   ]
  }
 ],
 "metadata": {
  "kaggle": {
   "accelerator": "gpu",
   "dataSources": [
    {
     "databundleVersionId": 8060720,
     "sourceId": 59575,
     "sourceType": "competition"
    },
    {
     "datasetId": 4517815,
     "sourceId": 8479599,
     "sourceType": "datasetVersion"
    },
    {
     "datasetId": 5234797,
     "sourceId": 8723242,
     "sourceType": "datasetVersion"
    },
    {
     "datasetId": 5360501,
     "sourceId": 8914164,
     "sourceType": "datasetVersion"
    },
    {
     "datasetId": 5427363,
     "sourceId": 9008587,
     "sourceType": "datasetVersion"
    },
    {
     "datasetId": 5428005,
     "sourceId": 9009428,
     "sourceType": "datasetVersion"
    },
    {
     "sourceId": 174185912,
     "sourceType": "kernelVersion"
    },
    {
     "sourceId": 187159588,
     "sourceType": "kernelVersion"
    },
    {
     "sourceId": 188357773,
     "sourceType": "kernelVersion"
    },
    {
     "sourceId": 189039731,
     "sourceType": "kernelVersion"
    },
    {
     "sourceId": 189045602,
     "sourceType": "kernelVersion"
    },
    {
     "sourceId": 189061218,
     "sourceType": "kernelVersion"
    },
    {
     "sourceId": 189232069,
     "sourceType": "kernelVersion"
    },
    {
     "sourceId": 189294219,
     "sourceType": "kernelVersion"
    },
    {
     "sourceId": 189579978,
     "sourceType": "kernelVersion"
    }
   ],
   "dockerImageVersionId": 30747,
   "isGpuEnabled": true,
   "isInternetEnabled": false,
   "language": "python",
   "sourceType": "notebook"
  },
  "kernelspec": {
   "display_name": "Python 3",
   "language": "python",
   "name": "python3"
  },
  "language_info": {
   "codemirror_mode": {
    "name": "ipython",
    "version": 3
   },
   "file_extension": ".py",
   "mimetype": "text/x-python",
   "name": "python",
   "nbconvert_exporter": "python",
   "pygments_lexer": "ipython3",
   "version": "3.10.13"
  },
  "papermill": {
   "default_parameters": {},
   "duration": 2450.328423,
   "end_time": "2024-07-24T14:39:47.057187",
   "environment_variables": {},
   "exception": null,
   "input_path": "__notebook__.ipynb",
   "output_path": "__notebook__.ipynb",
   "parameters": {},
   "start_time": "2024-07-24T13:58:56.728764",
   "version": "2.5.0"
  }
 },
 "nbformat": 4,
 "nbformat_minor": 5
}
